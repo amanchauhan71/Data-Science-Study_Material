{
 "cells": [
  {
   "cell_type": "markdown",
   "metadata": {
    "id": "23QfxylylE7C"
   },
   "source": [
    "# 4.2 Get Started"
   ]
  },
  {
   "cell_type": "markdown",
   "metadata": {
    "id": "jwD2r8by77Ai"
   },
   "source": [
    "## 4.2.1 Data Versioning\n",
    "\n",
    "\n",
    "\n",
    "DVC consists of commands you can run along with git to track large files, directories, or ML model files. Think \"Git for data\". It handle arbitrarily large files and directories with the same performance that you get with small code files.\n",
    "\n",
    "First initialize Git\n",
    "\n",
    "```shell\n",
    "git init\n",
    "```\n",
    "\n",
    "Now initialize DVC\n",
    "\n",
    "```shell\n",
    "dvc init\n",
    "```\n",
    "Download the example dataset from [UC Irvine Machine Learning Repository](https://archive.ics.uci.edu/ml/datasets/bike+sharing+dataset)\n",
    "\n",
    "Create a data Directory in your current working directory and keep your hour.csv dataset or any choice of your data in that directory\n",
    "\n",
    "```\n",
    "└── data\n",
    "    └── hour.csv <-- or your dataset\n",
    "```\n",
    "\n",
    "Now as we get the data we will add it to **dvc tracking**\n",
    "- for linux of macOS\n",
    "```shell\n",
    "dvc add data/hour.csv\n",
    "```\n",
    "- for Windows\n",
    "```shell\n",
    "dvc add data\\hour.csv\n",
    "```\n",
    "\n",
    "\n",
    "As we will do this DVC will instruct us to run a git command\n",
    "\n",
    "- for linux of macOS\n",
    "```shell\n",
    "git add data/hour.csv.dvc data/.gitignore\n",
    "```\n",
    "- for Windows\n",
    "```shell\n",
    "git add data\\hour.csv.dvc data\\.gitignore\n",
    "```\n",
    "\n",
    "After adding it we have to commit the changes\n",
    "```shell\n",
    "git commit -m \"Add data\"\n",
    "```\n",
    "\n"
   ]
  },
  {
   "cell_type": "markdown",
   "metadata": {
    "id": "W10wZ8KdFmr5"
   },
   "source": [
    "\n",
    "\n",
    "Now we will have a **.dvc** file in data folder\n",
    "It is kind of of metafile (link to our data)\n",
    "We can see the content using **cat** command in linux or directly open as text file in windows\n",
    "\n",
    "Now we want to push our data to remote storage.\n",
    "So for this we can add DVC Remote(Google drive, s3 bucket etc..)\n",
    "\n",
    "We will use Google drive for this demo\n",
    "\n",
    "Login to google drive and create a folder anywhere in your google drive\n"
   ]
  },
  {
   "cell_type": "markdown",
   "metadata": {
    "id": "6m3UtGock77s"
   },
   "source": [
    "\n",
    "If you dont have DVC Drive installed, run this command before your proceeed further -\n",
    "\n",
    "```shell\n",
    "pip install dvc[gdrive]\n",
    "```\n",
    "\n",
    "Get the Folder ID and run the below command\n",
    "\n",
    "```shell\n",
    "dvc remote add -d dvc_remote gdrive://Folder ID\n",
    "```\n",
    "\n",
    "> **Note** \n",
    "In case of GDrive for the first time it will ask for authentication, \n",
    "1. Once your run the aboove command it will provide a URL in the terminal.\n",
    "2. Copy and paste the url in the browser and select your gmail id to sign in\n",
    "3. Allow required access.\n",
    "4. You'll land up on a page which will provide you an access code.\n",
    "5. Copy and poste that access code in your terminal to configure gdrive for the first time for DVC remote data storage.\n",
    "\n",
    "Now we will Commit and push\n",
    "\n",
    "```shell\n",
    "git commit .dvc/config -m \"Configure remote storage\"\n",
    "dvc push\n",
    "```\n"
   ]
  }
 ],
 "metadata": {
  "colab": {
   "collapsed_sections": [],
   "name": "Data Versioning.ipynb",
   "provenance": []
  },
  "kernelspec": {
   "display_name": "Python 3 (ipykernel)",
   "language": "python",
   "name": "python3"
  },
  "language_info": {
   "codemirror_mode": {
    "name": "ipython",
    "version": 3
   },
   "file_extension": ".py",
   "mimetype": "text/x-python",
   "name": "python",
   "nbconvert_exporter": "python",
   "pygments_lexer": "ipython3",
   "version": "3.9.5"
  }
 },
 "nbformat": 4,
 "nbformat_minor": 1
}
