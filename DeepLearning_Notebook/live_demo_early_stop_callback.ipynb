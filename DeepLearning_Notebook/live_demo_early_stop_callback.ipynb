{
  "nbformat": 4,
  "nbformat_minor": 0,
  "metadata": {
    "colab": {
      "name": "live demo.ipynb",
      "provenance": [],
      "collapsed_sections": []
    },
    "kernelspec": {
      "name": "python3",
      "display_name": "Python 3"
    },
    "language_info": {
      "name": "python"
    },
    "accelerator": "GPU"
  },
  "cells": [
    {
      "cell_type": "code",
      "metadata": {
        "id": "02DOkkli7d95"
      },
      "source": [
        ""
      ],
      "execution_count": null,
      "outputs": []
    },
    {
      "cell_type": "code",
      "metadata": {
        "id": "AVPE3ru_eZ6B"
      },
      "source": [
        "import os\n",
        "ROOT = \"/content/drive/MyDrive/001_SUNNY_BHAVEEN_CHANDRA/001_My_Classes/DLCVNLP/Live Lectures Material DLCVNLP April 17th batch/Day 08 May 22/live demo\"\n",
        "os.chdir(ROOT)\n",
        "assert ROOT == os.getcwd()"
      ],
      "execution_count": null,
      "outputs": []
    },
    {
      "cell_type": "markdown",
      "metadata": {
        "id": "WLXo-zKVT1BP"
      },
      "source": [
        "## A simple classifier using Keras's Sequential API"
      ]
    },
    {
      "cell_type": "code",
      "metadata": {
        "id": "fjDK1fu5T1BR"
      },
      "source": [
        "import numpy as np\n",
        "import matplotlib.pyplot as plt\n",
        "import pandas as pd\n",
        "import os\n",
        "import tensorflow as tf\n",
        "import seaborn as sns"
      ],
      "execution_count": null,
      "outputs": []
    },
    {
      "cell_type": "markdown",
      "metadata": {
        "id": "Qlc3DlXAT1BW"
      },
      "source": [
        "### Working on mnist dataset - \n",
        "\n",
        "* This dataset contains handwritten digits. \n",
        "* It has 10 classes i.e. 0 to 9\n",
        "* Each data point is 2D array of 28x28 size.\n",
        "* Also known as hello world dataset for ANN\n",
        "\n",
        "[image source](https://en.wikipedia.org/wiki/MNIST_database#/media/File:MnistExamples.png)\n",
        "\n",
        "![](https://upload.wikimedia.org/wikipedia/commons/2/27/MnistExamples.png)"
      ]
    },
    {
      "cell_type": "code",
      "metadata": {
        "id": "oUX64PRkT1BW"
      },
      "source": [
        "# Keras has already contains mnist dataset \n",
        "# Loading mnist data using Keras\n",
        "\n",
        "mnist = tf.keras.datasets.mnist\n",
        "(X_train_full, y_train_full), (X_test, y_test) = mnist.load_data()"
      ],
      "execution_count": null,
      "outputs": []
    },
    {
      "cell_type": "code",
      "metadata": {
        "id": "UCb1hhLiT1Bc",
        "colab": {
          "base_uri": "https://localhost:8080/"
        },
        "outputId": "ff0c07e4-6bd2-4b70-d9fe-c248046c7d1c"
      },
      "source": [
        "print(f\"data type of X_train_full: {X_train_full.dtype},\\nshape of X_train_full: {X_train_full.shape}\")"
      ],
      "execution_count": null,
      "outputs": [
        {
          "output_type": "stream",
          "text": [
            "data type of X_train_full: uint8,\n",
            "shape of X_train_full: (60000, 28, 28)\n"
          ],
          "name": "stdout"
        }
      ]
    },
    {
      "cell_type": "markdown",
      "metadata": {
        "id": "DaGg0CXmgVPJ"
      },
      "source": [
        "### Observe the training when we do no scale. "
      ]
    },
    {
      "cell_type": "code",
      "metadata": {
        "id": "ZTO5K8x7T1Bk"
      },
      "source": [
        "# create a validation data set from the full training data \n",
        "# Scale the data between 0 to 1 by dividing it by 255. as its an unsigned data between 0-255 range\n",
        "X_valid, X_train = X_train_full[:5000] / 255., X_train_full[5000:] / 255.\n",
        "# X_valid, X_train = X_train_full[:5000], X_train_full[5000:]\n",
        "\n",
        "y_valid, y_train = y_train_full[:5000], y_train_full[5000:]\n",
        "\n",
        "# scale the test set as well\n",
        "X_test = X_test / 255.\n",
        "# X_test = X_test\n",
        "\n",
        "\n"
      ],
      "execution_count": null,
      "outputs": []
    },
    {
      "cell_type": "code",
      "metadata": {
        "id": "CavNIdoaT1Bp",
        "colab": {
          "base_uri": "https://localhost:8080/",
          "height": 248
        },
        "outputId": "764aaf6c-50bc-4b45-d139-c76cfedb708b"
      },
      "source": [
        "# lets view the first data point of X_train\n",
        "plt.imshow(X_train[0], cmap=\"binary\")\n",
        "plt.axis('off')\n",
        "plt.show()\n"
      ],
      "execution_count": null,
      "outputs": [
        {
          "output_type": "display_data",
          "data": {
            "image/png": "[encoded data removed]",
            "text/plain": [
              "<Figure size 432x288 with 1 Axes>"
            ]
          },
          "metadata": {
            "tags": [],
            "needs_background": "light"
          }
        }
      ]
    },
    {
      "cell_type": "code",
      "metadata": {
        "id": "NbtIMpuZT1Bu",
        "colab": {
          "base_uri": "https://localhost:8080/",
          "height": 880
        },
        "outputId": "5b11dc6f-a24b-478b-927f-09841f112112"
      },
      "source": [
        "plt.figure(figsize=(15,15))\n",
        "sns.heatmap(X_train[0], annot=True, cmap=\"binary\")"
      ],
      "execution_count": null,
      "outputs": [
        {
          "output_type": "execute_result",
          "data": {
            "text/plain": [
              "<matplotlib.axes._subplots.AxesSubplot at 0x7fb2a7dc6210>"
            ]
          },
          "metadata": {
            "tags": []
          },
          "execution_count": 7
        },
        {
          "output_type": "display_data",
          "data": {
            "image/png": "[encoded data removed]",
            "text/plain": [
              "<Figure size 1080x1080 with 2 Axes>"
            ]
          },
          "metadata": {
            "tags": [],
            "needs_background": "light"
          }
        }
      ]
    },
    {
      "cell_type": "code",
      "metadata": {
        "id": "DTUr2xheT1B0",
        "colab": {
          "base_uri": "https://localhost:8080/"
        },
        "outputId": "e58dd601-cb87-4f94-b9c8-2d32779f62cd"
      },
      "source": [
        "# actual value of y_train\n",
        "y_train[0]"
      ],
      "execution_count": null,
      "outputs": [
        {
          "output_type": "execute_result",
          "data": {
            "text/plain": [
              "7"
            ]
          },
          "metadata": {
            "tags": []
          },
          "execution_count": 8
        }
      ]
    },
    {
      "cell_type": "code",
      "metadata": {
        "id": "k2BX3qEiT1B5"
      },
      "source": [
        "LAYERS = [tf.keras.layers.Flatten(input_shape=[28, 28], name=\"inputLayer\"),\n",
        "          tf.keras.layers.Dense(300, activation=\"relu\", name=\"hiddenLayer1\"),\n",
        "          tf.keras.layers.Dense(100, activation=\"relu\", name=\"hiddenLayer2\"),\n",
        "          tf.keras.layers.Dense(10, activation=\"softmax\", name=\"outputLayer\")]\n",
        "\n",
        "model_clf = tf.keras.models.Sequential(LAYERS)"
      ],
      "execution_count": null,
      "outputs": []
    },
    {
      "cell_type": "markdown",
      "metadata": {
        "id": "VQPHM-DwT1B9"
      },
      "source": [
        "#### Altenative 1\n",
        "\n",
        "```python\n",
        "model = tf.keras.models.Sequential()\n",
        "model.add(tf.keras.layers.Flatten(input_shape=[28, 28]))\n",
        "model.add(tf.keras.layers.Dense(300, activation=\"relu\"))\n",
        "model.add(tf.keras.layers.Dense(100, activation=\"relu\"))\n",
        "model.add(tf.keras.layers.Dense(10, activation=\"softmax\"))\n",
        "\n",
        "```"
      ]
    },
    {
      "cell_type": "markdown",
      "metadata": {
        "id": "3WlLdDzET1B-"
      },
      "source": [
        "#### Alternative 2\n",
        "\n",
        "```python\n",
        "model = tf.keras.models.Sequential([\n",
        "    tf.keras.layers.Flatten(input_shape=[28, 28]),\n",
        "    tf.keras.layers.Dense(300, activation=\"relu\"),\n",
        "    tf.keras.layers.Dense(100, activation=\"relu\"),\n",
        "    tf.keras.layers.Dense(10, activation=\"softmax\")\n",
        "])\n",
        "```"
      ]
    },
    {
      "cell_type": "markdown",
      "metadata": {
        "id": "VGe8cja-T1B-"
      },
      "source": [
        "### For custom weights initialiser or setting weights \n",
        "refer [here](https://keras.io/api/layers/base_layer/#setweights-method)"
      ]
    },
    {
      "cell_type": "code",
      "metadata": {
        "id": "sA9wBfw_T1B_",
        "colab": {
          "base_uri": "https://localhost:8080/"
        },
        "outputId": "3b668488-7469-4ee1-8853-db36c5fd31d2"
      },
      "source": [
        "model_clf.layers"
      ],
      "execution_count": null,
      "outputs": [
        {
          "output_type": "execute_result",
          "data": {
            "text/plain": [
              "[<tensorflow.python.keras.layers.core.Flatten at 0x7fb29eb9ded0>,\n",
              " <tensorflow.python.keras.layers.core.Dense at 0x7fb2a73721d0>,\n",
              " <tensorflow.python.keras.layers.core.Dense at 0x7fb29ebf32d0>,\n",
              " <tensorflow.python.keras.layers.core.Dense at 0x7fb29ebf3990>]"
            ]
          },
          "metadata": {
            "tags": []
          },
          "execution_count": 10
        }
      ]
    },
    {
      "cell_type": "code",
      "metadata": {
        "id": "JluBwQFVT1CD",
        "colab": {
          "base_uri": "https://localhost:8080/"
        },
        "outputId": "c74917e2-6a6d-4bb0-a1aa-2802e40d486b"
      },
      "source": [
        "model_clf.summary()"
      ],
      "execution_count": null,
      "outputs": [
        {
          "output_type": "stream",
          "text": [
            "Model: \"sequential\"\n",
            "_________________________________________________________________\n",
            "Layer (type)                 Output Shape              Param #   \n",
            "=================================================================\n",
            "inputLayer (Flatten)         (None, 784)               0         \n",
            "_________________________________________________________________\n",
            "hiddenLayer1 (Dense)         (None, 300)               235500    \n",
            "_________________________________________________________________\n",
            "hiddenLayer2 (Dense)         (None, 100)               30100     \n",
            "_________________________________________________________________\n",
            "outputLayer (Dense)          (None, 10)                1010      \n",
            "=================================================================\n",
            "Total params: 266,610\n",
            "Trainable params: 266,610\n",
            "Non-trainable params: 0\n",
            "_________________________________________________________________\n"
          ],
          "name": "stdout"
        }
      ]
    },
    {
      "cell_type": "code",
      "metadata": {
        "id": "lh2tYK0fT1CJ",
        "colab": {
          "base_uri": "https://localhost:8080/"
        },
        "outputId": "890594fa-310e-4027-b07b-378a74984780"
      },
      "source": [
        "# firsLayer * secondLayer + bias\n",
        "784*300 + 300, 300*100+100, 100*10+10"
      ],
      "execution_count": null,
      "outputs": [
        {
          "output_type": "execute_result",
          "data": {
            "text/plain": [
              "(235500, 30100, 1010)"
            ]
          },
          "metadata": {
            "tags": []
          },
          "execution_count": 12
        }
      ]
    },
    {
      "cell_type": "code",
      "metadata": {
        "id": "y5xbBd9dT1CO",
        "colab": {
          "base_uri": "https://localhost:8080/"
        },
        "outputId": "b618b1d8-5794-4f21-e79d-46ba35c0140a"
      },
      "source": [
        "# Total parameters to be trained -\n",
        "sum((235500, 30100, 1010))"
      ],
      "execution_count": null,
      "outputs": [
        {
          "output_type": "execute_result",
          "data": {
            "text/plain": [
              "266610"
            ]
          },
          "metadata": {
            "tags": []
          },
          "execution_count": 13
        }
      ]
    },
    {
      "cell_type": "code",
      "metadata": {
        "id": "sV2F7E6ET1CT",
        "colab": {
          "base_uri": "https://localhost:8080/",
          "height": 35
        },
        "outputId": "1ed538de-db03-478f-cb8a-142d90aa9956"
      },
      "source": [
        "hidden1 = model_clf.layers[1]\n",
        "hidden1.name"
      ],
      "execution_count": null,
      "outputs": [
        {
          "output_type": "execute_result",
          "data": {
            "application/vnd.google.colaboratory.intrinsic+json": {
              "type": "string"
            },
            "text/plain": [
              "'hiddenLayer1'"
            ]
          },
          "metadata": {
            "tags": []
          },
          "execution_count": 14
        }
      ]
    },
    {
      "cell_type": "code",
      "metadata": {
        "id": "E44TYmE-T1Ca",
        "colab": {
          "base_uri": "https://localhost:8080/"
        },
        "outputId": "0b4be49d-5ed9-48db-fa02-51b13308a9c6"
      },
      "source": [
        "model_clf.get_layer(hidden1.name) is hidden1"
      ],
      "execution_count": null,
      "outputs": [
        {
          "output_type": "execute_result",
          "data": {
            "text/plain": [
              "True"
            ]
          },
          "metadata": {
            "tags": []
          },
          "execution_count": 15
        }
      ]
    },
    {
      "cell_type": "code",
      "metadata": {
        "id": "zIovwIogT1Cg"
      },
      "source": [
        "# hidden1.set_weights(hidden1.get_weights()) # to set weights"
      ],
      "execution_count": null,
      "outputs": []
    },
    {
      "cell_type": "code",
      "metadata": {
        "id": "8ZTodjmCT1Ck",
        "colab": {
          "base_uri": "https://localhost:8080/"
        },
        "outputId": "5858ea07-9c2b-4f46-e9e7-9543b30fab9e"
      },
      "source": [
        "type(hidden1.get_weights())"
      ],
      "execution_count": null,
      "outputs": [
        {
          "output_type": "execute_result",
          "data": {
            "text/plain": [
              "list"
            ]
          },
          "metadata": {
            "tags": []
          },
          "execution_count": 17
        }
      ]
    },
    {
      "cell_type": "code",
      "metadata": {
        "id": "FaU9U8QfT1Cp",
        "colab": {
          "base_uri": "https://localhost:8080/"
        },
        "outputId": "f8bbe342-8e4d-4572-eb6d-590c13730293"
      },
      "source": [
        "hidden1.get_weights()"
      ],
      "execution_count": null,
      "outputs": [
        {
          "output_type": "execute_result",
          "data": {
            "text/plain": [
              "[array([[ 0.02391411, -0.00458571,  0.03504915, ..., -0.06125718,\n",
              "          0.05891162, -0.06014404],\n",
              "        [-0.02630292,  0.02543592,  0.030443  , ..., -0.03878435,\n",
              "         -0.04283032,  0.04210998],\n",
              "        [-0.02921217, -0.01283023, -0.0008138 , ...,  0.06389566,\n",
              "          0.0321565 , -0.01396762],\n",
              "        ...,\n",
              "        [-0.06061342,  0.01524021,  0.02088983, ...,  0.01153516,\n",
              "          0.03130943,  0.04560159],\n",
              "        [-0.02818784,  0.0038124 ,  0.02895694, ..., -0.00878916,\n",
              "         -0.0338216 , -0.00887739],\n",
              "        [ 0.05030017, -0.00991423,  0.05178612, ..., -0.05031374,\n",
              "          0.00391978,  0.06082377]], dtype=float32),\n",
              " array([0., 0., 0., 0., 0., 0., 0., 0., 0., 0., 0., 0., 0., 0., 0., 0., 0.,\n",
              "        0., 0., 0., 0., 0., 0., 0., 0., 0., 0., 0., 0., 0., 0., 0., 0., 0.,\n",
              "        0., 0., 0., 0., 0., 0., 0., 0., 0., 0., 0., 0., 0., 0., 0., 0., 0.,\n",
              "        0., 0., 0., 0., 0., 0., 0., 0., 0., 0., 0., 0., 0., 0., 0., 0., 0.,\n",
              "        0., 0., 0., 0., 0., 0., 0., 0., 0., 0., 0., 0., 0., 0., 0., 0., 0.,\n",
              "        0., 0., 0., 0., 0., 0., 0., 0., 0., 0., 0., 0., 0., 0., 0., 0., 0.,\n",
              "        0., 0., 0., 0., 0., 0., 0., 0., 0., 0., 0., 0., 0., 0., 0., 0., 0.,\n",
              "        0., 0., 0., 0., 0., 0., 0., 0., 0., 0., 0., 0., 0., 0., 0., 0., 0.,\n",
              "        0., 0., 0., 0., 0., 0., 0., 0., 0., 0., 0., 0., 0., 0., 0., 0., 0.,\n",
              "        0., 0., 0., 0., 0., 0., 0., 0., 0., 0., 0., 0., 0., 0., 0., 0., 0.,\n",
              "        0., 0., 0., 0., 0., 0., 0., 0., 0., 0., 0., 0., 0., 0., 0., 0., 0.,\n",
              "        0., 0., 0., 0., 0., 0., 0., 0., 0., 0., 0., 0., 0., 0., 0., 0., 0.,\n",
              "        0., 0., 0., 0., 0., 0., 0., 0., 0., 0., 0., 0., 0., 0., 0., 0., 0.,\n",
              "        0., 0., 0., 0., 0., 0., 0., 0., 0., 0., 0., 0., 0., 0., 0., 0., 0.,\n",
              "        0., 0., 0., 0., 0., 0., 0., 0., 0., 0., 0., 0., 0., 0., 0., 0., 0.,\n",
              "        0., 0., 0., 0., 0., 0., 0., 0., 0., 0., 0., 0., 0., 0., 0., 0., 0.,\n",
              "        0., 0., 0., 0., 0., 0., 0., 0., 0., 0., 0., 0., 0., 0., 0., 0., 0.,\n",
              "        0., 0., 0., 0., 0., 0., 0., 0., 0., 0., 0.], dtype=float32)]"
            ]
          },
          "metadata": {
            "tags": []
          },
          "execution_count": 18
        }
      ]
    },
    {
      "cell_type": "code",
      "metadata": {
        "id": "AvWqAyD3T1Cx"
      },
      "source": [
        "weights, biases = hidden1.get_weights()"
      ],
      "execution_count": null,
      "outputs": []
    },
    {
      "cell_type": "code",
      "metadata": {
        "id": "jsDl3Cs2T1C3",
        "colab": {
          "base_uri": "https://localhost:8080/"
        },
        "outputId": "32895fba-8984-4063-8605-0b6347e5272b"
      },
      "source": [
        "print(\"shape\\n\",weights.shape, \"\\n\")\n",
        "\n",
        "weights\n"
      ],
      "execution_count": null,
      "outputs": [
        {
          "output_type": "stream",
          "text": [
            "shape\n",
            " (784, 300) \n",
            "\n"
          ],
          "name": "stdout"
        },
        {
          "output_type": "execute_result",
          "data": {
            "text/plain": [
              "array([[ 0.02391411, -0.00458571,  0.03504915, ..., -0.06125718,\n",
              "         0.05891162, -0.06014404],\n",
              "       [-0.02630292,  0.02543592,  0.030443  , ..., -0.03878435,\n",
              "        -0.04283032,  0.04210998],\n",
              "       [-0.02921217, -0.01283023, -0.0008138 , ...,  0.06389566,\n",
              "         0.0321565 , -0.01396762],\n",
              "       ...,\n",
              "       [-0.06061342,  0.01524021,  0.02088983, ...,  0.01153516,\n",
              "         0.03130943,  0.04560159],\n",
              "       [-0.02818784,  0.0038124 ,  0.02895694, ..., -0.00878916,\n",
              "        -0.0338216 , -0.00887739],\n",
              "       [ 0.05030017, -0.00991423,  0.05178612, ..., -0.05031374,\n",
              "         0.00391978,  0.06082377]], dtype=float32)"
            ]
          },
          "metadata": {
            "tags": []
          },
          "execution_count": 20
        }
      ]
    },
    {
      "cell_type": "code",
      "metadata": {
        "id": "NFtn3qxuT1C7",
        "colab": {
          "base_uri": "https://localhost:8080/"
        },
        "outputId": "74bba8ae-f642-42fa-a516-1e39e58ba566"
      },
      "source": [
        "print(\"shape\\n\", biases.shape)\n",
        "\n",
        "biases"
      ],
      "execution_count": null,
      "outputs": [
        {
          "output_type": "stream",
          "text": [
            "shape\n",
            " (300,)\n"
          ],
          "name": "stdout"
        },
        {
          "output_type": "execute_result",
          "data": {
            "text/plain": [
              "array([0., 0., 0., 0., 0., 0., 0., 0., 0., 0., 0., 0., 0., 0., 0., 0., 0.,\n",
              "       0., 0., 0., 0., 0., 0., 0., 0., 0., 0., 0., 0., 0., 0., 0., 0., 0.,\n",
              "       0., 0., 0., 0., 0., 0., 0., 0., 0., 0., 0., 0., 0., 0., 0., 0., 0.,\n",
              "       0., 0., 0., 0., 0., 0., 0., 0., 0., 0., 0., 0., 0., 0., 0., 0., 0.,\n",
              "       0., 0., 0., 0., 0., 0., 0., 0., 0., 0., 0., 0., 0., 0., 0., 0., 0.,\n",
              "       0., 0., 0., 0., 0., 0., 0., 0., 0., 0., 0., 0., 0., 0., 0., 0., 0.,\n",
              "       0., 0., 0., 0., 0., 0., 0., 0., 0., 0., 0., 0., 0., 0., 0., 0., 0.,\n",
              "       0., 0., 0., 0., 0., 0., 0., 0., 0., 0., 0., 0., 0., 0., 0., 0., 0.,\n",
              "       0., 0., 0., 0., 0., 0., 0., 0., 0., 0., 0., 0., 0., 0., 0., 0., 0.,\n",
              "       0., 0., 0., 0., 0., 0., 0., 0., 0., 0., 0., 0., 0., 0., 0., 0., 0.,\n",
              "       0., 0., 0., 0., 0., 0., 0., 0., 0., 0., 0., 0., 0., 0., 0., 0., 0.,\n",
              "       0., 0., 0., 0., 0., 0., 0., 0., 0., 0., 0., 0., 0., 0., 0., 0., 0.,\n",
              "       0., 0., 0., 0., 0., 0., 0., 0., 0., 0., 0., 0., 0., 0., 0., 0., 0.,\n",
              "       0., 0., 0., 0., 0., 0., 0., 0., 0., 0., 0., 0., 0., 0., 0., 0., 0.,\n",
              "       0., 0., 0., 0., 0., 0., 0., 0., 0., 0., 0., 0., 0., 0., 0., 0., 0.,\n",
              "       0., 0., 0., 0., 0., 0., 0., 0., 0., 0., 0., 0., 0., 0., 0., 0., 0.,\n",
              "       0., 0., 0., 0., 0., 0., 0., 0., 0., 0., 0., 0., 0., 0., 0., 0., 0.,\n",
              "       0., 0., 0., 0., 0., 0., 0., 0., 0., 0., 0.], dtype=float32)"
            ]
          },
          "metadata": {
            "tags": []
          },
          "execution_count": 21
        }
      ]
    },
    {
      "cell_type": "code",
      "metadata": {
        "id": "B0LyAwftT1C_"
      },
      "source": [
        "LOSS_FUNCTION = \"sparse_categorical_crossentropy\" # use => tf.losses.sparse_categorical_crossentropy\n",
        "OPTIMIZER = \"SGD\" # or use with custom learning rate=> tf.keras.optimizers.SGD(0.02)\n",
        "METRICS = [\"accuracy\"]\n",
        "\n",
        "model_clf.compile(loss=LOSS_FUNCTION,\n",
        "              optimizer=OPTIMIZER,\n",
        "              metrics=METRICS)\n",
        "\n"
      ],
      "execution_count": null,
      "outputs": []
    },
    {
      "cell_type": "markdown",
      "metadata": {
        "id": "-U2yx-_hT1DF"
      },
      "source": [
        "#### Alternatively \n",
        "```python\n",
        "model_clf.compile(loss=tf.losses.sparse_categorical_crossentropy,\n",
        "               optimizer=tf.keras.optimizers.SGD(0.02),\n",
        "               metrics=[\"accuracy\"])\n",
        "```"
      ]
    },
    {
      "cell_type": "code",
      "metadata": {
        "id": "wCKQ0L6QT1DG"
      },
      "source": [
        "# 1719*30, X_train.shape, 55000/32, batch size=32 by default"
      ],
      "execution_count": null,
      "outputs": []
    },
    {
      "cell_type": "markdown",
      "metadata": {
        "id": "uW5sHcB-htpo"
      },
      "source": [
        "### Unscaled and epochs increased\n"
      ]
    },
    {
      "cell_type": "code",
      "metadata": {
        "colab": {
          "base_uri": "https://localhost:8080/"
        },
        "id": "prpecI3pHwtt",
        "outputId": "8e285be7-22a9-47a0-99ef-b4c64ca81e54"
      },
      "source": [
        "55000/16"
      ],
      "execution_count": null,
      "outputs": [
        {
          "output_type": "execute_result",
          "data": {
            "text/plain": [
              "3437.5"
            ]
          },
          "metadata": {
            "tags": []
          },
          "execution_count": 24
        }
      ]
    },
    {
      "cell_type": "markdown",
      "metadata": {
        "id": "a2Ut2t09MysB"
      },
      "source": [
        "# Tensorboard callback"
      ]
    },
    {
      "cell_type": "code",
      "metadata": {
        "colab": {
          "base_uri": "https://localhost:8080/"
        },
        "id": "00m4ULNOM1i6",
        "outputId": "97c3cd2f-66ec-40e8-ace1-e72362986c16"
      },
      "source": [
        "import time\n",
        "\n",
        "def get_log_path(log_dir=\"logs/fit\"):\n",
        "  fileName = time.strftime(\"log_%Y_%m_%d_%H_%M_%S\")\n",
        "  log_path = os.path.join(log_dir, fileName)\n",
        "  print(f\"saving logs at: {log_path}\")\n",
        "  return log_path\n",
        "\n",
        "log_dir = get_log_path()\n",
        "\n",
        "tb_cb = tf.keras.callbacks.TensorBoard(log_dir=log_dir)"
      ],
      "execution_count": null,
      "outputs": [
        {
          "output_type": "stream",
          "text": [
            "saving logs at: logs/fit/log_2021_05_22_09_11_30\n"
          ],
          "name": "stdout"
        }
      ]
    },
    {
      "cell_type": "markdown",
      "metadata": {
        "id": "6OAj_aglS5HY"
      },
      "source": [
        "# Early stopping callbacks"
      ]
    },
    {
      "cell_type": "code",
      "metadata": {
        "id": "rPXPGz8aS-qM"
      },
      "source": [
        "early_stopping_cb = tf.keras.callbacks.EarlyStopping(patience=5, restore_best_weights=True)"
      ],
      "execution_count": null,
      "outputs": []
    },
    {
      "cell_type": "markdown",
      "metadata": {
        "id": "UyE7kdRjUOJV"
      },
      "source": [
        "# Model Checkpointing callback"
      ]
    },
    {
      "cell_type": "code",
      "metadata": {
        "id": "-84q85xfUfCb"
      },
      "source": [
        "CKPT_path = \"model_ckpt.h5\"\n",
        "checkpointing_cb = tf.keras.callbacks.ModelCheckpoint(CKPT_path, save_best_only=True)"
      ],
      "execution_count": null,
      "outputs": []
    },
    {
      "cell_type": "code",
      "metadata": {
        "id": "EGIFIh7UT1DK",
        "colab": {
          "base_uri": "https://localhost:8080/"
        },
        "outputId": "98032996-c0dd-45bb-ba92-5c8e113167d1"
      },
      "source": [
        "# EPOCHS = 30\n",
        "EPOCHS = 50\n",
        "\n",
        "# EPOCHS = 200\n",
        "\n",
        "VALIDATION_SET = (X_valid, y_valid)\n",
        "\n",
        "history = model_clf.fit(X_train, y_train, epochs=EPOCHS,\n",
        "                    validation_data=VALIDATION_SET, batch_size=32, callbacks=[tb_cb, early_stopping_cb,\n",
        "                                                                              checkpointing_cb])\n"
      ],
      "execution_count": null,
      "outputs": [
        {
          "output_type": "stream",
          "text": [
            "Epoch 1/50\n",
            "1719/1719 [==============================] - 4s 2ms/step - loss: 0.1231 - accuracy: 0.9660 - val_loss: 0.1213 - val_accuracy: 0.9670\n",
            "Epoch 2/50\n",
            "1719/1719 [==============================] - 3s 2ms/step - loss: 0.1127 - accuracy: 0.9684 - val_loss: 0.1155 - val_accuracy: 0.9680\n",
            "Epoch 3/50\n",
            "1719/1719 [==============================] - 3s 2ms/step - loss: 0.1036 - accuracy: 0.9712 - val_loss: 0.1096 - val_accuracy: 0.9698\n",
            "Epoch 4/50\n",
            "1719/1719 [==============================] - 3s 2ms/step - loss: 0.0955 - accuracy: 0.9734 - val_loss: 0.1014 - val_accuracy: 0.9716\n",
            "Epoch 5/50\n",
            "1719/1719 [==============================] - 3s 2ms/step - loss: 0.0885 - accuracy: 0.9759 - val_loss: 0.0974 - val_accuracy: 0.9732\n",
            "Epoch 6/50\n",
            "1719/1719 [==============================] - 3s 2ms/step - loss: 0.0824 - accuracy: 0.9774 - val_loss: 0.0935 - val_accuracy: 0.9736\n",
            "Epoch 7/50\n",
            "1719/1719 [==============================] - 3s 2ms/step - loss: 0.0768 - accuracy: 0.9783 - val_loss: 0.0902 - val_accuracy: 0.9742\n",
            "Epoch 8/50\n",
            "1719/1719 [==============================] - 3s 2ms/step - loss: 0.0718 - accuracy: 0.9802 - val_loss: 0.0876 - val_accuracy: 0.9730\n",
            "Epoch 9/50\n",
            "1719/1719 [==============================] - 3s 2ms/step - loss: 0.0670 - accuracy: 0.9818 - val_loss: 0.0865 - val_accuracy: 0.9760\n",
            "Epoch 10/50\n",
            "1719/1719 [==============================] - 3s 2ms/step - loss: 0.0629 - accuracy: 0.9831 - val_loss: 0.0832 - val_accuracy: 0.9772\n",
            "Epoch 11/50\n",
            "1719/1719 [==============================] - 3s 2ms/step - loss: 0.0592 - accuracy: 0.9843 - val_loss: 0.0786 - val_accuracy: 0.9768\n",
            "Epoch 12/50\n",
            "1719/1719 [==============================] - 3s 2ms/step - loss: 0.0554 - accuracy: 0.9857 - val_loss: 0.0789 - val_accuracy: 0.9776\n",
            "Epoch 13/50\n",
            "1719/1719 [==============================] - 3s 2ms/step - loss: 0.0522 - accuracy: 0.9865 - val_loss: 0.0767 - val_accuracy: 0.9778\n",
            "Epoch 14/50\n",
            "1719/1719 [==============================] - 3s 2ms/step - loss: 0.0493 - accuracy: 0.9870 - val_loss: 0.0760 - val_accuracy: 0.9784\n",
            "Epoch 15/50\n",
            "1719/1719 [==============================] - 3s 2ms/step - loss: 0.0464 - accuracy: 0.9878 - val_loss: 0.0753 - val_accuracy: 0.9786\n",
            "Epoch 16/50\n",
            "1719/1719 [==============================] - 3s 2ms/step - loss: 0.0437 - accuracy: 0.9883 - val_loss: 0.0718 - val_accuracy: 0.9802\n",
            "Epoch 17/50\n",
            "1719/1719 [==============================] - 3s 2ms/step - loss: 0.0412 - accuracy: 0.9895 - val_loss: 0.0730 - val_accuracy: 0.9784\n",
            "Epoch 18/50\n",
            "1719/1719 [==============================] - 3s 2ms/step - loss: 0.0388 - accuracy: 0.9902 - val_loss: 0.0705 - val_accuracy: 0.9806\n",
            "Epoch 19/50\n",
            "1719/1719 [==============================] - 3s 2ms/step - loss: 0.0366 - accuracy: 0.9907 - val_loss: 0.0708 - val_accuracy: 0.9802\n",
            "Epoch 20/50\n",
            "1719/1719 [==============================] - 3s 2ms/step - loss: 0.0346 - accuracy: 0.9916 - val_loss: 0.0689 - val_accuracy: 0.9816\n",
            "Epoch 21/50\n",
            "1719/1719 [==============================] - 3s 2ms/step - loss: 0.0327 - accuracy: 0.9919 - val_loss: 0.0684 - val_accuracy: 0.9816\n",
            "Epoch 22/50\n",
            "1719/1719 [==============================] - 3s 2ms/step - loss: 0.0311 - accuracy: 0.9925 - val_loss: 0.0678 - val_accuracy: 0.9808\n",
            "Epoch 23/50\n",
            "1719/1719 [==============================] - 3s 2ms/step - loss: 0.0292 - accuracy: 0.9932 - val_loss: 0.0692 - val_accuracy: 0.9808\n",
            "Epoch 24/50\n",
            "1719/1719 [==============================] - 3s 2ms/step - loss: 0.0276 - accuracy: 0.9935 - val_loss: 0.0670 - val_accuracy: 0.9822\n",
            "Epoch 25/50\n",
            "1719/1719 [==============================] - 3s 2ms/step - loss: 0.0262 - accuracy: 0.9943 - val_loss: 0.0666 - val_accuracy: 0.9826\n",
            "Epoch 26/50\n",
            "1719/1719 [==============================] - 3s 2ms/step - loss: 0.0245 - accuracy: 0.9948 - val_loss: 0.0675 - val_accuracy: 0.9810\n",
            "Epoch 27/50\n",
            "1719/1719 [==============================] - 3s 2ms/step - loss: 0.0235 - accuracy: 0.9952 - val_loss: 0.0666 - val_accuracy: 0.9804\n",
            "Epoch 28/50\n",
            "1719/1719 [==============================] - 3s 2ms/step - loss: 0.0221 - accuracy: 0.9956 - val_loss: 0.0703 - val_accuracy: 0.9812\n",
            "Epoch 29/50\n",
            "1719/1719 [==============================] - 3s 2ms/step - loss: 0.0210 - accuracy: 0.9958 - val_loss: 0.0661 - val_accuracy: 0.9824\n",
            "Epoch 30/50\n",
            "1719/1719 [==============================] - 3s 2ms/step - loss: 0.0197 - accuracy: 0.9964 - val_loss: 0.0663 - val_accuracy: 0.9826\n",
            "Epoch 31/50\n",
            "1719/1719 [==============================] - 3s 2ms/step - loss: 0.0188 - accuracy: 0.9965 - val_loss: 0.0652 - val_accuracy: 0.9824\n",
            "Epoch 32/50\n",
            "1719/1719 [==============================] - 3s 2ms/step - loss: 0.0179 - accuracy: 0.9969 - val_loss: 0.0656 - val_accuracy: 0.9826\n",
            "Epoch 33/50\n",
            "1719/1719 [==============================] - 3s 2ms/step - loss: 0.0170 - accuracy: 0.9973 - val_loss: 0.0643 - val_accuracy: 0.9814\n",
            "Epoch 34/50\n",
            "1719/1719 [==============================] - 3s 2ms/step - loss: 0.0161 - accuracy: 0.9975 - val_loss: 0.0681 - val_accuracy: 0.9820\n",
            "Epoch 35/50\n",
            "1719/1719 [==============================] - 3s 2ms/step - loss: 0.0153 - accuracy: 0.9976 - val_loss: 0.0659 - val_accuracy: 0.9822\n",
            "Epoch 36/50\n",
            "1719/1719 [==============================] - 3s 2ms/step - loss: 0.0145 - accuracy: 0.9979 - val_loss: 0.0641 - val_accuracy: 0.9836\n",
            "Epoch 37/50\n",
            "1719/1719 [==============================] - 3s 2ms/step - loss: 0.0138 - accuracy: 0.9980 - val_loss: 0.0652 - val_accuracy: 0.9828\n",
            "Epoch 38/50\n",
            "1719/1719 [==============================] - 3s 2ms/step - loss: 0.0131 - accuracy: 0.9984 - val_loss: 0.0651 - val_accuracy: 0.9814\n",
            "Epoch 39/50\n",
            "1719/1719 [==============================] - 3s 2ms/step - loss: 0.0125 - accuracy: 0.9985 - val_loss: 0.0660 - val_accuracy: 0.9824\n",
            "Epoch 40/50\n",
            "1719/1719 [==============================] - 3s 2ms/step - loss: 0.0119 - accuracy: 0.9987 - val_loss: 0.0661 - val_accuracy: 0.9824\n",
            "Epoch 41/50\n",
            "1719/1719 [==============================] - 3s 2ms/step - loss: 0.0114 - accuracy: 0.9986 - val_loss: 0.0644 - val_accuracy: 0.9832\n"
          ],
          "name": "stdout"
        }
      ]
    },
    {
      "cell_type": "code",
      "metadata": {
        "colab": {
          "base_uri": "https://localhost:8080/",
          "height": 723
        },
        "id": "9KpVG4yrWKLA",
        "outputId": "00f17d59-fd78-4b52-8819-371cde6812c6"
      },
      "source": [
        "ckpt_model = tf.keras.models.load_model(CKPT_path)\n",
        "\n",
        "history = ckpt_model.fit(X_train, y_train, epochs=EPOCHS,\n",
        "                    validation_data=VALIDATION_SET, batch_size=32, callbacks=[tb_cb, early_stopping_cb,\n",
        "                                                                              checkpointing_cb])\n"
      ],
      "execution_count": null,
      "outputs": [
        {
          "output_type": "stream",
          "text": [
            "Epoch 1/50\n",
            "1719/1719 [==============================] - 4s 2ms/step - loss: 0.1276 - accuracy: 0.9645 - val_loss: 0.1226 - val_accuracy: 0.9654\n",
            "Epoch 2/50\n",
            "1719/1719 [==============================] - 3s 2ms/step - loss: 0.1160 - accuracy: 0.9677 - val_loss: 0.1191 - val_accuracy: 0.9678\n",
            "Epoch 3/50\n",
            "1719/1719 [==============================] - 3s 2ms/step - loss: 0.1067 - accuracy: 0.9701 - val_loss: 0.1075 - val_accuracy: 0.9702\n",
            "Epoch 4/50\n",
            "1719/1719 [==============================] - 3s 2ms/step - loss: 0.0984 - accuracy: 0.9731 - val_loss: 0.1047 - val_accuracy: 0.9704\n",
            "Epoch 5/50\n",
            "1719/1719 [==============================] - 3s 2ms/step - loss: 0.0909 - accuracy: 0.9750 - val_loss: 0.0997 - val_accuracy: 0.9734\n",
            "Epoch 6/50\n",
            "1719/1719 [==============================] - 3s 2ms/step - loss: 0.0846 - accuracy: 0.9765 - val_loss: 0.0968 - val_accuracy: 0.9718\n",
            "Epoch 7/50\n",
            "1719/1719 [==============================] - 3s 2ms/step - loss: 0.0787 - accuracy: 0.9784 - val_loss: 0.0912 - val_accuracy: 0.9746\n",
            "Epoch 8/50\n",
            "1719/1719 [==============================] - 3s 2ms/step - loss: 0.0734 - accuracy: 0.9796 - val_loss: 0.0926 - val_accuracy: 0.9750\n",
            "Epoch 9/50\n",
            "1719/1719 [==============================] - 3s 2ms/step - loss: 0.0688 - accuracy: 0.9813 - val_loss: 0.0872 - val_accuracy: 0.9762\n",
            "Epoch 10/50\n",
            " 752/1719 [============>.................] - ETA: 1s - loss: 0.0639 - accuracy: 0.9825"
          ],
          "name": "stdout"
        },
        {
          "output_type": "error",
          "ename": "KeyboardInterrupt",
          "evalue": "ignored",
          "traceback": [
            "\u001b[0;31m---------------------------------------------------------------------------\u001b[0m",
            "\u001b[0;31mKeyboardInterrupt\u001b[0m                         Traceback (most recent call last)",
            "\u001b[0;32m<ipython-input-29-e70be6a9776d>\u001b[0m in \u001b[0;36m<module>\u001b[0;34m()\u001b[0m\n\u001b[1;32m      3\u001b[0m history = ckpt_model.fit(X_train, y_train, epochs=EPOCHS,\n\u001b[1;32m      4\u001b[0m                     validation_data=VALIDATION_SET, batch_size=32, callbacks=[tb_cb, early_stopping_cb,\n\u001b[0;32m----> 5\u001b[0;31m                                                                               checkpointing_cb])\n\u001b[0m",
            "\u001b[0;32m/usr/local/lib/python3.7/dist-packages/tensorflow/python/keras/engine/training.py\u001b[0m in \u001b[0;36mfit\u001b[0;34m(self, x, y, batch_size, epochs, verbose, callbacks, validation_split, validation_data, shuffle, class_weight, sample_weight, initial_epoch, steps_per_epoch, validation_steps, validation_batch_size, validation_freq, max_queue_size, workers, use_multiprocessing)\u001b[0m\n\u001b[1;32m   1098\u001b[0m                 _r=1):\n\u001b[1;32m   1099\u001b[0m               \u001b[0mcallbacks\u001b[0m\u001b[0;34m.\u001b[0m\u001b[0mon_train_batch_begin\u001b[0m\u001b[0;34m(\u001b[0m\u001b[0mstep\u001b[0m\u001b[0;34m)\u001b[0m\u001b[0;34m\u001b[0m\u001b[0;34m\u001b[0m\u001b[0m\n\u001b[0;32m-> 1100\u001b[0;31m               \u001b[0mtmp_logs\u001b[0m \u001b[0;34m=\u001b[0m \u001b[0mself\u001b[0m\u001b[0;34m.\u001b[0m\u001b[0mtrain_function\u001b[0m\u001b[0;34m(\u001b[0m\u001b[0miterator\u001b[0m\u001b[0;34m)\u001b[0m\u001b[0;34m\u001b[0m\u001b[0;34m\u001b[0m\u001b[0m\n\u001b[0m\u001b[1;32m   1101\u001b[0m               \u001b[0;32mif\u001b[0m \u001b[0mdata_handler\u001b[0m\u001b[0;34m.\u001b[0m\u001b[0mshould_sync\u001b[0m\u001b[0;34m:\u001b[0m\u001b[0;34m\u001b[0m\u001b[0;34m\u001b[0m\u001b[0m\n\u001b[1;32m   1102\u001b[0m                 \u001b[0mcontext\u001b[0m\u001b[0;34m.\u001b[0m\u001b[0masync_wait\u001b[0m\u001b[0;34m(\u001b[0m\u001b[0;34m)\u001b[0m\u001b[0;34m\u001b[0m\u001b[0;34m\u001b[0m\u001b[0m\n",
            "\u001b[0;32m/usr/local/lib/python3.7/dist-packages/tensorflow/python/eager/def_function.py\u001b[0m in \u001b[0;36m__call__\u001b[0;34m(self, *args, **kwds)\u001b[0m\n\u001b[1;32m    826\u001b[0m     \u001b[0mtracing_count\u001b[0m \u001b[0;34m=\u001b[0m \u001b[0mself\u001b[0m\u001b[0;34m.\u001b[0m\u001b[0mexperimental_get_tracing_count\u001b[0m\u001b[0;34m(\u001b[0m\u001b[0;34m)\u001b[0m\u001b[0;34m\u001b[0m\u001b[0;34m\u001b[0m\u001b[0m\n\u001b[1;32m    827\u001b[0m     \u001b[0;32mwith\u001b[0m \u001b[0mtrace\u001b[0m\u001b[0;34m.\u001b[0m\u001b[0mTrace\u001b[0m\u001b[0;34m(\u001b[0m\u001b[0mself\u001b[0m\u001b[0;34m.\u001b[0m\u001b[0m_name\u001b[0m\u001b[0;34m)\u001b[0m \u001b[0;32mas\u001b[0m \u001b[0mtm\u001b[0m\u001b[0;34m:\u001b[0m\u001b[0;34m\u001b[0m\u001b[0;34m\u001b[0m\u001b[0m\n\u001b[0;32m--> 828\u001b[0;31m       \u001b[0mresult\u001b[0m \u001b[0;34m=\u001b[0m \u001b[0mself\u001b[0m\u001b[0;34m.\u001b[0m\u001b[0m_call\u001b[0m\u001b[0;34m(\u001b[0m\u001b[0;34m*\u001b[0m\u001b[0margs\u001b[0m\u001b[0;34m,\u001b[0m \u001b[0;34m**\u001b[0m\u001b[0mkwds\u001b[0m\u001b[0;34m)\u001b[0m\u001b[0;34m\u001b[0m\u001b[0;34m\u001b[0m\u001b[0m\n\u001b[0m\u001b[1;32m    829\u001b[0m       \u001b[0mcompiler\u001b[0m \u001b[0;34m=\u001b[0m \u001b[0;34m\"xla\"\u001b[0m \u001b[0;32mif\u001b[0m \u001b[0mself\u001b[0m\u001b[0;34m.\u001b[0m\u001b[0m_experimental_compile\u001b[0m \u001b[0;32melse\u001b[0m \u001b[0;34m\"nonXla\"\u001b[0m\u001b[0;34m\u001b[0m\u001b[0;34m\u001b[0m\u001b[0m\n\u001b[1;32m    830\u001b[0m       \u001b[0mnew_tracing_count\u001b[0m \u001b[0;34m=\u001b[0m \u001b[0mself\u001b[0m\u001b[0;34m.\u001b[0m\u001b[0mexperimental_get_tracing_count\u001b[0m\u001b[0;34m(\u001b[0m\u001b[0;34m)\u001b[0m\u001b[0;34m\u001b[0m\u001b[0;34m\u001b[0m\u001b[0m\n",
            "\u001b[0;32m/usr/local/lib/python3.7/dist-packages/tensorflow/python/eager/def_function.py\u001b[0m in \u001b[0;36m_call\u001b[0;34m(self, *args, **kwds)\u001b[0m\n\u001b[1;32m    860\u001b[0m       \u001b[0;31m# In this case we have not created variables on the first call. So we can\u001b[0m\u001b[0;34m\u001b[0m\u001b[0;34m\u001b[0m\u001b[0;34m\u001b[0m\u001b[0m\n\u001b[1;32m    861\u001b[0m       \u001b[0;31m# run the first trace but we should fail if variables are created.\u001b[0m\u001b[0;34m\u001b[0m\u001b[0;34m\u001b[0m\u001b[0;34m\u001b[0m\u001b[0m\n\u001b[0;32m--> 862\u001b[0;31m       \u001b[0mresults\u001b[0m \u001b[0;34m=\u001b[0m \u001b[0mself\u001b[0m\u001b[0;34m.\u001b[0m\u001b[0m_stateful_fn\u001b[0m\u001b[0;34m(\u001b[0m\u001b[0;34m*\u001b[0m\u001b[0margs\u001b[0m\u001b[0;34m,\u001b[0m \u001b[0;34m**\u001b[0m\u001b[0mkwds\u001b[0m\u001b[0;34m)\u001b[0m\u001b[0;34m\u001b[0m\u001b[0;34m\u001b[0m\u001b[0m\n\u001b[0m\u001b[1;32m    863\u001b[0m       \u001b[0;32mif\u001b[0m \u001b[0mself\u001b[0m\u001b[0;34m.\u001b[0m\u001b[0m_created_variables\u001b[0m\u001b[0;34m:\u001b[0m\u001b[0;34m\u001b[0m\u001b[0;34m\u001b[0m\u001b[0m\n\u001b[1;32m    864\u001b[0m         raise ValueError(\"Creating variables on a non-first call to a function\"\n",
            "\u001b[0;32m/usr/local/lib/python3.7/dist-packages/tensorflow/python/eager/function.py\u001b[0m in \u001b[0;36m__call__\u001b[0;34m(self, *args, **kwargs)\u001b[0m\n\u001b[1;32m   2941\u001b[0m        filtered_flat_args) = self._maybe_define_function(args, kwargs)\n\u001b[1;32m   2942\u001b[0m     return graph_function._call_flat(\n\u001b[0;32m-> 2943\u001b[0;31m         filtered_flat_args, captured_inputs=graph_function.captured_inputs)  # pylint: disable=protected-access\n\u001b[0m\u001b[1;32m   2944\u001b[0m \u001b[0;34m\u001b[0m\u001b[0m\n\u001b[1;32m   2945\u001b[0m   \u001b[0;34m@\u001b[0m\u001b[0mproperty\u001b[0m\u001b[0;34m\u001b[0m\u001b[0;34m\u001b[0m\u001b[0m\n",
            "\u001b[0;32m/usr/local/lib/python3.7/dist-packages/tensorflow/python/eager/function.py\u001b[0m in \u001b[0;36m_call_flat\u001b[0;34m(self, args, captured_inputs, cancellation_manager)\u001b[0m\n\u001b[1;32m   1917\u001b[0m       \u001b[0;31m# No tape is watching; skip to running the function.\u001b[0m\u001b[0;34m\u001b[0m\u001b[0;34m\u001b[0m\u001b[0;34m\u001b[0m\u001b[0m\n\u001b[1;32m   1918\u001b[0m       return self._build_call_outputs(self._inference_function.call(\n\u001b[0;32m-> 1919\u001b[0;31m           ctx, args, cancellation_manager=cancellation_manager))\n\u001b[0m\u001b[1;32m   1920\u001b[0m     forward_backward = self._select_forward_and_backward_functions(\n\u001b[1;32m   1921\u001b[0m         \u001b[0margs\u001b[0m\u001b[0;34m,\u001b[0m\u001b[0;34m\u001b[0m\u001b[0;34m\u001b[0m\u001b[0m\n",
            "\u001b[0;32m/usr/local/lib/python3.7/dist-packages/tensorflow/python/eager/function.py\u001b[0m in \u001b[0;36mcall\u001b[0;34m(self, ctx, args, cancellation_manager)\u001b[0m\n\u001b[1;32m    558\u001b[0m               \u001b[0minputs\u001b[0m\u001b[0;34m=\u001b[0m\u001b[0margs\u001b[0m\u001b[0;34m,\u001b[0m\u001b[0;34m\u001b[0m\u001b[0;34m\u001b[0m\u001b[0m\n\u001b[1;32m    559\u001b[0m               \u001b[0mattrs\u001b[0m\u001b[0;34m=\u001b[0m\u001b[0mattrs\u001b[0m\u001b[0;34m,\u001b[0m\u001b[0;34m\u001b[0m\u001b[0;34m\u001b[0m\u001b[0m\n\u001b[0;32m--> 560\u001b[0;31m               ctx=ctx)\n\u001b[0m\u001b[1;32m    561\u001b[0m         \u001b[0;32melse\u001b[0m\u001b[0;34m:\u001b[0m\u001b[0;34m\u001b[0m\u001b[0;34m\u001b[0m\u001b[0m\n\u001b[1;32m    562\u001b[0m           outputs = execute.execute_with_cancellation(\n",
            "\u001b[0;32m/usr/local/lib/python3.7/dist-packages/tensorflow/python/eager/execute.py\u001b[0m in \u001b[0;36mquick_execute\u001b[0;34m(op_name, num_outputs, inputs, attrs, ctx, name)\u001b[0m\n\u001b[1;32m     58\u001b[0m     \u001b[0mctx\u001b[0m\u001b[0;34m.\u001b[0m\u001b[0mensure_initialized\u001b[0m\u001b[0;34m(\u001b[0m\u001b[0;34m)\u001b[0m\u001b[0;34m\u001b[0m\u001b[0;34m\u001b[0m\u001b[0m\n\u001b[1;32m     59\u001b[0m     tensors = pywrap_tfe.TFE_Py_Execute(ctx._handle, device_name, op_name,\n\u001b[0;32m---> 60\u001b[0;31m                                         inputs, attrs, num_outputs)\n\u001b[0m\u001b[1;32m     61\u001b[0m   \u001b[0;32mexcept\u001b[0m \u001b[0mcore\u001b[0m\u001b[0;34m.\u001b[0m\u001b[0m_NotOkStatusException\u001b[0m \u001b[0;32mas\u001b[0m \u001b[0me\u001b[0m\u001b[0;34m:\u001b[0m\u001b[0;34m\u001b[0m\u001b[0;34m\u001b[0m\u001b[0m\n\u001b[1;32m     62\u001b[0m     \u001b[0;32mif\u001b[0m \u001b[0mname\u001b[0m \u001b[0;32mis\u001b[0m \u001b[0;32mnot\u001b[0m \u001b[0;32mNone\u001b[0m\u001b[0;34m:\u001b[0m\u001b[0;34m\u001b[0m\u001b[0;34m\u001b[0m\u001b[0m\n",
            "\u001b[0;31mKeyboardInterrupt\u001b[0m: "
          ]
        }
      ]
    },
    {
      "cell_type": "code",
      "metadata": {
        "id": "FADBuyIK9tEd"
      },
      "source": [
        "import time \n",
        "import os\n",
        "\n",
        "def savedModel_path(model_dir=\"TRAINED_MODEL\"):\n",
        "  os.makedirs(model_dir, exist_ok=True)\n",
        "  fileName = time.strftime(\"Model_%Y_%m_%d_%H_%M_%S_.h5\")\n",
        "  model_path = os.path.join(model_dir, fileName)\n",
        "  print(f\"model {fileName} will be saved at {model_path}\")\n",
        "  return model_path "
      ],
      "execution_count": null,
      "outputs": []
    },
    {
      "cell_type": "code",
      "metadata": {
        "id": "k7_4x3WS-y0X"
      },
      "source": [
        "# os.path.join(\"dir\", \"filename\")"
      ],
      "execution_count": null,
      "outputs": []
    },
    {
      "cell_type": "code",
      "metadata": {
        "id": "BKYeMxnO_c_S"
      },
      "source": [
        "UNIQUE_PATH = savedModel_path()\n",
        "UNIQUE_PATH"
      ],
      "execution_count": null,
      "outputs": []
    },
    {
      "cell_type": "code",
      "metadata": {
        "id": "kjYIJm1b_7zn"
      },
      "source": [
        "tf.keras.models.save_model(model_clf, UNIQUE_PATH)"
      ],
      "execution_count": null,
      "outputs": []
    },
    {
      "cell_type": "code",
      "metadata": {
        "id": "jnIT6yoiAIcr"
      },
      "source": [
        "history.params"
      ],
      "execution_count": null,
      "outputs": []
    },
    {
      "cell_type": "code",
      "metadata": {
        "id": "NeJzMXTfAUz5"
      },
      "source": [
        "pd.DataFrame(history.history)"
      ],
      "execution_count": null,
      "outputs": []
    },
    {
      "cell_type": "code",
      "metadata": {
        "id": "mGKbUUcIAc4A"
      },
      "source": [
        "pd.DataFrame(history.history).plot()\n"
      ],
      "execution_count": null,
      "outputs": []
    },
    {
      "cell_type": "code",
      "metadata": {
        "id": "nxT78Ew8A2Cr"
      },
      "source": [
        "model_clf.evaluate(X_test, y_test)"
      ],
      "execution_count": null,
      "outputs": []
    },
    {
      "cell_type": "code",
      "metadata": {
        "id": "_4NPXz1iB0hJ"
      },
      "source": [
        "X_new = X_test[:3]\n",
        "\n",
        "y_prob = model_clf.predict(X_new)\n",
        "\n",
        "y_prob.round(3)"
      ],
      "execution_count": null,
      "outputs": []
    },
    {
      "cell_type": "code",
      "metadata": {
        "id": "FEzsfYOKCJBN"
      },
      "source": [
        "y_pred = np.argmax(y_prob, axis=-1)\n",
        "y_pred"
      ],
      "execution_count": null,
      "outputs": []
    },
    {
      "cell_type": "code",
      "metadata": {
        "id": "oTSNjjsoCozW"
      },
      "source": [
        "y_test_new = y_test[:3]\n",
        "y_test_new"
      ],
      "execution_count": null,
      "outputs": []
    },
    {
      "cell_type": "code",
      "metadata": {
        "id": "p0hI-AT8DIGI"
      },
      "source": [
        "for data, pred, actual in zip(X_new, y_pred, y_test_new):\n",
        "  plt.imshow(data, cmap=\"binary\")\n",
        "  plt.title(f\"Predicted: {pred}, Actual: {actual}\")\n",
        "  plt.axis(\"off\")\n",
        "  plt.show()\n",
        "  print(\"###########\")\n",
        "\n"
      ],
      "execution_count": null,
      "outputs": []
    },
    {
      "cell_type": "code",
      "metadata": {
        "id": "-aetr4yJDl0T"
      },
      "source": [
        "# a = [1,2,3]\n",
        "# b = [6,3,2]\n",
        "# c = [6,3,2]\n",
        "\n",
        "# for x,y,z in zip(a,b,c):\n",
        "#   print(x,y,z)"
      ],
      "execution_count": null,
      "outputs": []
    },
    {
      "cell_type": "code",
      "metadata": {
        "id": "b8b4_425DteN"
      },
      "source": [
        "loaded_model = tf.keras.models.load_model(\"TRAINED_MODEL/Model_2021_05_22_07_41_36_.h5\")"
      ],
      "execution_count": null,
      "outputs": []
    },
    {
      "cell_type": "code",
      "metadata": {
        "id": "TzH2DlaNFB4h"
      },
      "source": [
        "loaded_model.evaluate(X_test, y_test) # 313 = 10000/32"
      ],
      "execution_count": null,
      "outputs": []
    },
    {
      "cell_type": "code",
      "metadata": {
        "id": "GONf9pgnFG6B"
      },
      "source": [
        "loaded_model.predict_classes(X_new)"
      ],
      "execution_count": null,
      "outputs": []
    },
    {
      "cell_type": "code",
      "metadata": {
        "id": "HVIbDiJNIJHL"
      },
      "source": [
        "10000/32"
      ],
      "execution_count": null,
      "outputs": []
    },
    {
      "cell_type": "code",
      "metadata": {
        "id": "9-vgu-GsJZqw"
      },
      "source": [
        "%load_ext tensorboard"
      ],
      "execution_count": null,
      "outputs": []
    },
    {
      "cell_type": "code",
      "metadata": {
        "id": "lmNVBGzMOWut"
      },
      "source": [
        "%tensorboard --logdir logs/fit"
      ],
      "execution_count": null,
      "outputs": []
    },
    {
      "cell_type": "code",
      "metadata": {
        "id": "biHxd52-Oc9_"
      },
      "source": [
        "%ls"
      ],
      "execution_count": null,
      "outputs": []
    },
    {
      "cell_type": "code",
      "metadata": {
        "id": "xjYX9FbmSVik"
      },
      "source": [
        ""
      ],
      "execution_count": null,
      "outputs": []
    }
  ]
}