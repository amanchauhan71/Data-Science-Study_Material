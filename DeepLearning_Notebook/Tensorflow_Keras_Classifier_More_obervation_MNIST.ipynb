{
  "nbformat": 4,
  "nbformat_minor": 0,
  "metadata": {
    "kernelspec": {
      "display_name": "Python 3",
      "language": "python",
      "name": "python3"
    },
    "language_info": {
      "codemirror_mode": {
        "name": "ipython",
        "version": 3
      },
      "file_extension": ".py",
      "mimetype": "text/x-python",
      "name": "python",
      "nbconvert_exporter": "python",
      "pygments_lexer": "ipython3",
      "version": "3.7.9"
    },
    "colab": {
      "name": "Tensorflow_Keras_Classifier_More_obervation (1).ipynb",
      "provenance": [],
      "collapsed_sections": [
        "VQPHM-DwT1B9",
        "3WlLdDzET1B-"
      ]
    },
    "accelerator": "GPU"
  },
  "cells": [
    {
      "cell_type": "markdown",
      "metadata": {
        "id": "ImbqcbLeT1Ag"
      },
      "source": [
        "\n",
        "## Open Source Deep Learning Frameworks\n",
        "\n",
        "Deep learnings is made accessible by a number of open source projects. Some of the most popular technologies include, but are not limited to, Deeplearning4j (DL4j), Theano, Torch, TensorFlow, and Caffe. The deciding factors on which one to use are the tech stack they target, and if they are low-level, academic, or application focused. Here’s an overview of each:\n",
        "\n",
        "DL4J:\n",
        "\n",
        "   * JVM-based\n",
        "   * Distrubted\n",
        "   * Integrates with Hadoop and Spark\n",
        "   \n",
        "   \n",
        "Theano:\n",
        "\n",
        "   * Very popular in Academia\n",
        "   * Fairly low level\n",
        "   * Interfaced with via Python and Numpy\n",
        "\n",
        "\n",
        "Torch:\n",
        "\n",
        "   * Lua based\n",
        "   * In house versions used by Facebook and Twitter\n",
        "   * Contains pretrained models\n",
        "\n",
        "\n",
        "TensorFlow:\n",
        "\n",
        "   * Google written successor to Theano\n",
        "   * Interfaced with via Python and Numpy\n",
        "   * Highly parallel\n",
        "   * Can be somewhat slow for certain problem sets\n",
        "\n",
        "\n",
        "\n",
        "Caffe:\n",
        "\n",
        "   * Not general purpose. Focuses on machine-vision problems\n",
        "   * Implemented in C++ and is very fast\n",
        "   * Not easily extensible\n",
        "   * Has a Python interface"
      ]
    },
    {
      "cell_type": "markdown",
      "metadata": {
        "id": "pnsmiyxVT1Ah"
      },
      "source": [
        "## Brief installation of Tensorflow"
      ]
    },
    {
      "cell_type": "markdown",
      "metadata": {
        "id": "Ud4hjZh4T1Ai"
      },
      "source": [
        ">TensorFlow is tested and supported on the following 64-bit systems:\n",
        "\n",
        ">1.Ubuntu 16.04 or later\n",
        "\n",
        ">2.Windows 7 or later\n",
        "\n",
        ">3.macOS 10.12.6 (Sierra) or later (no GPU support)\n",
        "\n",
        ">4.Raspbian 9.0 or later"
      ]
    },
    {
      "cell_type": "markdown",
      "metadata": {
        "id": "AkdmzqrYT1Aj"
      },
      "source": [
        "> **pip install tensorflow==2.0.0**\n",
        "\n",
        "> To run from Anaconda Prompt\n",
        "\n",
        "> **!pip install tensorflow==2.0.0**\n",
        "\n",
        "> To run from Jupyter Notebook"
      ]
    },
    {
      "cell_type": "markdown",
      "metadata": {
        "id": "ytZ87YafT1Ak"
      },
      "source": [
        "`Both Tensorflow 2.0 and Keras have been released for four years (Keras was released in March 2015, and Tensorflow was released in November of the same year). The rapid development of deep learning in the past days, we also know some problems of Tensorflow1.x and Keras:`\n",
        "\n",
        "* Using Tensorflow means programming static graphs, which is difficult and inconvenient for programs that are familiar with imperative programming\n",
        "\n",
        "* Tensorflow api is powerful and flexible, but it is more complex, confusing and difficult to use.\n",
        "\n",
        "* Keras api is productive and easy to use, but lacks flexibility for research\n"
      ]
    },
    {
      "cell_type": "markdown",
      "metadata": {
        "id": "tlJYerU_T1Al"
      },
      "source": [
        "#### Official docs link for [DETAILED INSTALLATION STEPS](https://www.tensorflow.org/install) for Tensorflow 2"
      ]
    },
    {
      "cell_type": "code",
      "metadata": {
        "id": "deqLTYe4T1Am"
      },
      "source": [
        "# Verify installation - \n",
        "import tensorflow as tf"
      ],
      "execution_count": null,
      "outputs": []
    },
    {
      "cell_type": "code",
      "metadata": {
        "id": "ojSPnupYT1Aw",
        "colab": {
          "base_uri": "https://localhost:8080/"
        },
        "outputId": "81d59c2e-0e97-4621-a561-da0ae0943c36"
      },
      "source": [
        "print(f\"Tensorflow Version: {tf.__version__}\")\n",
        "print(f\"Keras Version: {tf.keras.__version__}\")"
      ],
      "execution_count": null,
      "outputs": [
        {
          "output_type": "stream",
          "text": [
            "Tensorflow Version: 2.4.1\n",
            "Keras Version: 2.4.0\n"
          ],
          "name": "stdout"
        }
      ]
    },
    {
      "cell_type": "markdown",
      "metadata": {
        "id": "CTaL2-LJT1A6"
      },
      "source": [
        "`Tensorflow2.0 is a combination design of Tensorflow1.x and Keras. Considering user feedback and framework development over the past four years, it largely solves the above problems and will become the future machine learning platform.`\n",
        "\n",
        "> Tensorflow 2.0 is built on the following core ideas:\n",
        "\n",
        "\n",
        "* The coding is more pythonic, so that users can get the results immediately like they are programming in numpy\n",
        "* Retaining the characteristics of static graphs (for performance, distributed, and production deployment), this makes TensorFlow fast, scalable, and ready for production.\n",
        "* Using Keras as a high-level API for deep learning, making Tensorflow easy to use and efficient\n",
        "* Make the entire framework both high-level features (easy to use, efficient, and not flexible) and low-level features (powerful and scalable, not easy to use, but very flexible)"
      ]
    },
    {
      "cell_type": "markdown",
      "metadata": {
        "id": "CCC4y-g9T1A7"
      },
      "source": [
        ">Eager execution is by default in TensorFlow 2.0 and, it needs no special setup.\n",
        ">The following below code can be used to find out whether a CPU or GPU is in use"
      ]
    },
    {
      "cell_type": "markdown",
      "metadata": {
        "id": "NbuiMpcxT1A8"
      },
      "source": [
        "### GPU/CPU Check"
      ]
    },
    {
      "cell_type": "code",
      "metadata": {
        "scrolled": true,
        "id": "kfdsjkrlT1A-",
        "colab": {
          "base_uri": "https://localhost:8080/"
        },
        "outputId": "5778dd53-5315-435b-a14b-31c341d204ae"
      },
      "source": [
        "tf.config.list_physical_devices('GPU')"
      ],
      "execution_count": null,
      "outputs": [
        {
          "output_type": "execute_result",
          "data": {
            "text/plain": [
              "[PhysicalDevice(name='/physical_device:GPU:0', device_type='GPU')]"
            ]
          },
          "metadata": {
            "tags": []
          },
          "execution_count": 3
        }
      ]
    },
    {
      "cell_type": "code",
      "metadata": {
        "id": "BrJOgcJsT1BF",
        "colab": {
          "base_uri": "https://localhost:8080/"
        },
        "outputId": "99d24163-28e8-4d6d-dd16-424aef2ce994"
      },
      "source": [
        "tf.config.list_physical_devices('CPU')"
      ],
      "execution_count": null,
      "outputs": [
        {
          "output_type": "execute_result",
          "data": {
            "text/plain": [
              "[PhysicalDevice(name='/physical_device:CPU:0', device_type='CPU')]"
            ]
          },
          "metadata": {
            "tags": []
          },
          "execution_count": 4
        }
      ]
    },
    {
      "cell_type": "code",
      "metadata": {
        "id": "oWgQL00sT1BL",
        "colab": {
          "base_uri": "https://localhost:8080/"
        },
        "outputId": "20b045a3-85ee-4fc8-ea49-8284e17c0689"
      },
      "source": [
        "CheckList = [\"GPU\", \"CPU\"]\n",
        "for device in CheckList:\n",
        "    out_ = tf.config.list_physical_devices(device)    \n",
        "    if len(out_) > 0:\n",
        "        print(f\"{device} is available\")        \n",
        "        print(\"details\\n\",out_)\n",
        "    else:\n",
        "        print(f\"{device} not available\")"
      ],
      "execution_count": null,
      "outputs": [
        {
          "output_type": "stream",
          "text": [
            "GPU is available\n",
            "details\n",
            " [PhysicalDevice(name='/physical_device:GPU:0', device_type='GPU')]\n",
            "CPU is available\n",
            "details\n",
            " [PhysicalDevice(name='/physical_device:CPU:0', device_type='CPU')]\n"
          ],
          "name": "stdout"
        }
      ]
    },
    {
      "cell_type": "markdown",
      "metadata": {
        "id": "WLXo-zKVT1BP"
      },
      "source": [
        "## A simple classifier using Keras's Sequential API"
      ]
    },
    {
      "cell_type": "code",
      "metadata": {
        "id": "fjDK1fu5T1BR"
      },
      "source": [
        "import numpy as np\n",
        "import matplotlib.pyplot as plt\n",
        "import pandas as pd\n",
        "import os\n",
        "import tensorflow as tf\n",
        "import seaborn as sns"
      ],
      "execution_count": null,
      "outputs": []
    },
    {
      "cell_type": "markdown",
      "metadata": {
        "id": "Qlc3DlXAT1BW"
      },
      "source": [
        "### Working on mnist dataset - \n",
        "\n",
        "* This dataset contains handwritten digits. \n",
        "* It has 10 classes i.e. 0 to 9\n",
        "* Each data point is 2D array of 28x28 size.\n",
        "* Also known as hello world dataset for ANN\n",
        "\n",
        "[image source](https://en.wikipedia.org/wiki/MNIST_database#/media/File:MnistExamples.png)\n",
        "\n",
        "![](https://upload.wikimedia.org/wikipedia/commons/2/27/MnistExamples.png)"
      ]
    },
    {
      "cell_type": "code",
      "metadata": {
        "id": "oUX64PRkT1BW",
        "colab": {
          "base_uri": "https://localhost:8080/"
        },
        "outputId": "33541069-32c4-4bef-d14d-b2f6dba06a9f"
      },
      "source": [
        "# Keras has already contains mnist dataset \n",
        "# Loading mnist data using Keras\n",
        "\n",
        "mnist = tf.keras.datasets.mnist\n",
        "(X_train_full, y_train_full), (X_test, y_test) = mnist.load_data()"
      ],
      "execution_count": null,
      "outputs": [
        {
          "output_type": "stream",
          "text": [
            "Downloading data from https://storage.googleapis.com/tensorflow/tf-keras-datasets/mnist.npz\n",
            "11493376/11490434 [==============================] - 0s 0us/step\n"
          ],
          "name": "stdout"
        }
      ]
    },
    {
      "cell_type": "code",
      "metadata": {
        "id": "UCb1hhLiT1Bc",
        "colab": {
          "base_uri": "https://localhost:8080/"
        },
        "outputId": "b3e94e3f-d4d0-4958-edb9-e35f9f3f1414"
      },
      "source": [
        "print(f\"data type of X_train_full: {X_train_full.dtype},\\nshape of X_train_full: {X_train_full.shape}\")"
      ],
      "execution_count": null,
      "outputs": [
        {
          "output_type": "stream",
          "text": [
            "data type of X_train_full: uint8,\n",
            "shape of X_train_full: (60000, 28, 28)\n"
          ],
          "name": "stdout"
        }
      ]
    },
    {
      "cell_type": "code",
      "metadata": {
        "id": "ZTO5K8x7T1Bk"
      },
      "source": [
        "# create a validation data set from the full training data \n",
        "# Scale the data between 0 to 1 by dividing it by 255. as its an unsigned data between 0-255 range\n",
        "X_valid, X_train = X_train_full[:5000] / 255., X_train_full[5000:] / 255.\n",
        "y_valid, y_train = y_train_full[:5000], y_train_full[5000:]\n",
        "\n",
        "# scale the test set as well\n",
        "X_test = X_test / 255.\n",
        "\n"
      ],
      "execution_count": null,
      "outputs": []
    },
    {
      "cell_type": "code",
      "metadata": {
        "id": "CavNIdoaT1Bp",
        "colab": {
          "base_uri": "https://localhost:8080/",
          "height": 248
        },
        "outputId": "a14e2a29-6660-4c18-830d-d7a9e4571afb"
      },
      "source": [
        "# lets view the first data point of X_train\n",
        "plt.imshow(X_train[0], cmap=\"binary\")\n",
        "plt.axis('off')\n",
        "plt.show()\n"
      ],
      "execution_count": null,
      "outputs": [
        {
          "output_type": "display_data",
          "data": {
            "image/png": "[encoded data removed]",
            "text/plain": [
              "<Figure size 432x288 with 1 Axes>"
            ]
          },
          "metadata": {
            "tags": [],
            "needs_background": "light"
          }
        }
      ]
    },
    {
      "cell_type": "code",
      "metadata": {
        "id": "NbtIMpuZT1Bu",
        "colab": {
          "base_uri": "https://localhost:8080/",
          "height": 880
        },
        "outputId": "b2bc7a8e-30a2-4143-98db-e6de8af6e168"
      },
      "source": [
        "plt.figure(figsize=(15,15))\n",
        "sns.heatmap(X_train[0], annot=True, cmap=\"binary\")"
      ],
      "execution_count": null,
      "outputs": [
        {
          "output_type": "execute_result",
          "data": {
            "text/plain": [
              "<matplotlib.axes._subplots.AxesSubplot at 0x7f889f811590>"
            ]
          },
          "metadata": {
            "tags": []
          },
          "execution_count": 11
        },
        {
          "output_type": "display_data",
          "data": {
            "image/png": "[encoded data removed]",
            "text/plain": [
              "<Figure size 1080x1080 with 2 Axes>"
            ]
          },
          "metadata": {
            "tags": [],
            "needs_background": "light"
          }
        }
      ]
    },
    {
      "cell_type": "code",
      "metadata": {
        "id": "DTUr2xheT1B0",
        "colab": {
          "base_uri": "https://localhost:8080/"
        },
        "outputId": "3f53564d-1f0a-4c3a-9db1-ba8393684d7e"
      },
      "source": [
        "# actual value of y_train\n",
        "y_train[0]"
      ],
      "execution_count": null,
      "outputs": [
        {
          "output_type": "execute_result",
          "data": {
            "text/plain": [
              "7"
            ]
          },
          "metadata": {
            "tags": []
          },
          "execution_count": 12
        }
      ]
    },
    {
      "cell_type": "code",
      "metadata": {
        "id": "k2BX3qEiT1B5"
      },
      "source": [
        "LAYERS = [tf.keras.layers.Flatten(input_shape=[28, 28], name=\"inputLayer\"),\n",
        "          tf.keras.layers.Dense(300, activation=\"relu\", name=\"hiddenLayer1\"),\n",
        "          tf.keras.layers.Dense(100, activation=\"relu\", name=\"hiddenLayer2\"),\n",
        "          tf.keras.layers.Dense(10, activation=\"softmax\", name=\"outputLayer\")]\n",
        "\n",
        "model_clf = tf.keras.models.Sequential(LAYERS)"
      ],
      "execution_count": null,
      "outputs": []
    },
    {
      "cell_type": "markdown",
      "metadata": {
        "id": "VQPHM-DwT1B9"
      },
      "source": [
        "#### Altenative 1\n",
        "\n",
        "```python\n",
        "model = tf.keras.models.Sequential()\n",
        "model.add(tf.keras.layers.Flatten(input_shape=[28, 28]))\n",
        "model.add(tf.keras.layers.Dense(300, activation=\"relu\"))\n",
        "model.add(tf.keras.layers.Dense(100, activation=\"relu\"))\n",
        "model.add(tf.keras.layers.Dense(10, activation=\"softmax\"))\n",
        "\n",
        "```"
      ]
    },
    {
      "cell_type": "markdown",
      "metadata": {
        "id": "3WlLdDzET1B-"
      },
      "source": [
        "#### Alternative 2\n",
        "\n",
        "```python\n",
        "model = tf.keras.models.Sequential([\n",
        "    tf.keras.layers.Flatten(input_shape=[28, 28]),\n",
        "    tf.keras.layers.Dense(300, activation=\"relu\"),\n",
        "    tf.keras.layers.Dense(100, activation=\"relu\"),\n",
        "    tf.keras.layers.Dense(10, activation=\"softmax\")\n",
        "])\n",
        "```"
      ]
    },
    {
      "cell_type": "markdown",
      "metadata": {
        "id": "VGe8cja-T1B-"
      },
      "source": [
        "### For custom weights initialiser or setting weights \n",
        "refer [here](https://keras.io/api/layers/base_layer/#setweights-method)"
      ]
    },
    {
      "cell_type": "code",
      "metadata": {
        "id": "sA9wBfw_T1B_",
        "colab": {
          "base_uri": "https://localhost:8080/"
        },
        "outputId": "03e850fd-76d0-40c9-d898-bc736631dc74"
      },
      "source": [
        "model_clf.layers"
      ],
      "execution_count": null,
      "outputs": [
        {
          "output_type": "execute_result",
          "data": {
            "text/plain": [
              "[<tensorflow.python.keras.layers.core.Flatten at 0x7f8896416d90>,\n",
              " <tensorflow.python.keras.layers.core.Dense at 0x7f88a03e89d0>,\n",
              " <tensorflow.python.keras.layers.core.Dense at 0x7f8896a5bf90>,\n",
              " <tensorflow.python.keras.layers.core.Dense at 0x7f889633c610>]"
            ]
          },
          "metadata": {
            "tags": []
          },
          "execution_count": 14
        }
      ]
    },
    {
      "cell_type": "code",
      "metadata": {
        "id": "JluBwQFVT1CD",
        "colab": {
          "base_uri": "https://localhost:8080/"
        },
        "outputId": "0bef0413-924f-4556-dc6f-3dcd48746291"
      },
      "source": [
        "model_clf.summary()"
      ],
      "execution_count": null,
      "outputs": [
        {
          "output_type": "stream",
          "text": [
            "Model: \"sequential\"\n",
            "_________________________________________________________________\n",
            "Layer (type)                 Output Shape              Param #   \n",
            "=================================================================\n",
            "inputLayer (Flatten)         (None, 784)               0         \n",
            "_________________________________________________________________\n",
            "hiddenLayer1 (Dense)         (None, 300)               235500    \n",
            "_________________________________________________________________\n",
            "hiddenLayer2 (Dense)         (None, 100)               30100     \n",
            "_________________________________________________________________\n",
            "outputLayer (Dense)          (None, 10)                1010      \n",
            "=================================================================\n",
            "Total params: 266,610\n",
            "Trainable params: 266,610\n",
            "Non-trainable params: 0\n",
            "_________________________________________________________________\n"
          ],
          "name": "stdout"
        }
      ]
    },
    {
      "cell_type": "code",
      "metadata": {
        "id": "lh2tYK0fT1CJ",
        "colab": {
          "base_uri": "https://localhost:8080/"
        },
        "outputId": "8913c977-6db2-4486-ba8f-fb3b6ecfda0a"
      },
      "source": [
        "# firsLayer * secondLayer + bias\n",
        "784*300 + 300, 300*100+100, 100*10+10"
      ],
      "execution_count": null,
      "outputs": [
        {
          "output_type": "execute_result",
          "data": {
            "text/plain": [
              "(235500, 30100, 1010)"
            ]
          },
          "metadata": {
            "tags": []
          },
          "execution_count": 16
        }
      ]
    },
    {
      "cell_type": "code",
      "metadata": {
        "id": "y5xbBd9dT1CO",
        "colab": {
          "base_uri": "https://localhost:8080/"
        },
        "outputId": "1a7c9cd6-1426-4c88-cb5a-d2fdf0d0f3c4"
      },
      "source": [
        "# Total parameters to be trained -\n",
        "sum((235500, 30100, 1010))"
      ],
      "execution_count": null,
      "outputs": [
        {
          "output_type": "execute_result",
          "data": {
            "text/plain": [
              "266610"
            ]
          },
          "metadata": {
            "tags": []
          },
          "execution_count": 17
        }
      ]
    },
    {
      "cell_type": "code",
      "metadata": {
        "id": "sV2F7E6ET1CT",
        "colab": {
          "base_uri": "https://localhost:8080/",
          "height": 35
        },
        "outputId": "3d7de4f7-457c-40ce-ef3e-ccab52a9fb4e"
      },
      "source": [
        "hidden1 = model_clf.layers[1]\n",
        "hidden1.name"
      ],
      "execution_count": null,
      "outputs": [
        {
          "output_type": "execute_result",
          "data": {
            "application/vnd.google.colaboratory.intrinsic+json": {
              "type": "string"
            },
            "text/plain": [
              "'hiddenLayer1'"
            ]
          },
          "metadata": {
            "tags": []
          },
          "execution_count": 18
        }
      ]
    },
    {
      "cell_type": "code",
      "metadata": {
        "id": "E44TYmE-T1Ca",
        "colab": {
          "base_uri": "https://localhost:8080/"
        },
        "outputId": "62158297-5e6a-4bb5-87f4-c54049dc073c"
      },
      "source": [
        "model_clf.get_layer(hidden1.name) is hidden1"
      ],
      "execution_count": null,
      "outputs": [
        {
          "output_type": "execute_result",
          "data": {
            "text/plain": [
              "True"
            ]
          },
          "metadata": {
            "tags": []
          },
          "execution_count": 19
        }
      ]
    },
    {
      "cell_type": "code",
      "metadata": {
        "id": "zIovwIogT1Cg"
      },
      "source": [
        "# hidden1.set_weights(hidden1.get_weights()) # to set weights"
      ],
      "execution_count": null,
      "outputs": []
    },
    {
      "cell_type": "code",
      "metadata": {
        "id": "8ZTodjmCT1Ck",
        "colab": {
          "base_uri": "https://localhost:8080/"
        },
        "outputId": "ef13db9d-4b8d-437f-931d-edc0419369be"
      },
      "source": [
        "type(hidden1.get_weights())"
      ],
      "execution_count": null,
      "outputs": [
        {
          "output_type": "execute_result",
          "data": {
            "text/plain": [
              "list"
            ]
          },
          "metadata": {
            "tags": []
          },
          "execution_count": 21
        }
      ]
    },
    {
      "cell_type": "code",
      "metadata": {
        "id": "FaU9U8QfT1Cp",
        "colab": {
          "base_uri": "https://localhost:8080/"
        },
        "outputId": "5c417cb8-f2cd-444a-b0e3-2f83926cfa27"
      },
      "source": [
        "hidden1.get_weights()"
      ],
      "execution_count": null,
      "outputs": [
        {
          "output_type": "execute_result",
          "data": {
            "text/plain": [
              "[array([[ 0.03217652, -0.01186593, -0.03530351, ...,  0.02214805,\n",
              "         -0.06490748,  0.06684271],\n",
              "        [-0.01793233, -0.00472847, -0.0154996 , ...,  0.05146824,\n",
              "         -0.0373642 , -0.0215263 ],\n",
              "        [-0.04784323, -0.01313885,  0.01831921, ..., -0.01082107,\n",
              "          0.0146363 ,  0.03396148],\n",
              "        ...,\n",
              "        [ 0.05102354, -0.03909116,  0.01401947, ..., -0.0445058 ,\n",
              "         -0.06946859,  0.06660967],\n",
              "        [-0.03026358,  0.03453741, -0.03787037, ...,  0.0221971 ,\n",
              "         -0.04764985,  0.02157191],\n",
              "        [ 0.05143644, -0.03870134,  0.01450481, ...,  0.05704285,\n",
              "          0.07426484, -0.03019137]], dtype=float32),\n",
              " array([0., 0., 0., 0., 0., 0., 0., 0., 0., 0., 0., 0., 0., 0., 0., 0., 0.,\n",
              "        0., 0., 0., 0., 0., 0., 0., 0., 0., 0., 0., 0., 0., 0., 0., 0., 0.,\n",
              "        0., 0., 0., 0., 0., 0., 0., 0., 0., 0., 0., 0., 0., 0., 0., 0., 0.,\n",
              "        0., 0., 0., 0., 0., 0., 0., 0., 0., 0., 0., 0., 0., 0., 0., 0., 0.,\n",
              "        0., 0., 0., 0., 0., 0., 0., 0., 0., 0., 0., 0., 0., 0., 0., 0., 0.,\n",
              "        0., 0., 0., 0., 0., 0., 0., 0., 0., 0., 0., 0., 0., 0., 0., 0., 0.,\n",
              "        0., 0., 0., 0., 0., 0., 0., 0., 0., 0., 0., 0., 0., 0., 0., 0., 0.,\n",
              "        0., 0., 0., 0., 0., 0., 0., 0., 0., 0., 0., 0., 0., 0., 0., 0., 0.,\n",
              "        0., 0., 0., 0., 0., 0., 0., 0., 0., 0., 0., 0., 0., 0., 0., 0., 0.,\n",
              "        0., 0., 0., 0., 0., 0., 0., 0., 0., 0., 0., 0., 0., 0., 0., 0., 0.,\n",
              "        0., 0., 0., 0., 0., 0., 0., 0., 0., 0., 0., 0., 0., 0., 0., 0., 0.,\n",
              "        0., 0., 0., 0., 0., 0., 0., 0., 0., 0., 0., 0., 0., 0., 0., 0., 0.,\n",
              "        0., 0., 0., 0., 0., 0., 0., 0., 0., 0., 0., 0., 0., 0., 0., 0., 0.,\n",
              "        0., 0., 0., 0., 0., 0., 0., 0., 0., 0., 0., 0., 0., 0., 0., 0., 0.,\n",
              "        0., 0., 0., 0., 0., 0., 0., 0., 0., 0., 0., 0., 0., 0., 0., 0., 0.,\n",
              "        0., 0., 0., 0., 0., 0., 0., 0., 0., 0., 0., 0., 0., 0., 0., 0., 0.,\n",
              "        0., 0., 0., 0., 0., 0., 0., 0., 0., 0., 0., 0., 0., 0., 0., 0., 0.,\n",
              "        0., 0., 0., 0., 0., 0., 0., 0., 0., 0., 0.], dtype=float32)]"
            ]
          },
          "metadata": {
            "tags": []
          },
          "execution_count": 22
        }
      ]
    },
    {
      "cell_type": "code",
      "metadata": {
        "id": "AvWqAyD3T1Cx"
      },
      "source": [
        "weights, biases = hidden1.get_weights()"
      ],
      "execution_count": null,
      "outputs": []
    },
    {
      "cell_type": "code",
      "metadata": {
        "id": "jsDl3Cs2T1C3",
        "colab": {
          "base_uri": "https://localhost:8080/"
        },
        "outputId": "4f25e921-4f42-4ed5-e42b-2f480ac4f5f6"
      },
      "source": [
        "print(\"shape\\n\",weights.shape, \"\\n\")\n",
        "\n",
        "weights\n"
      ],
      "execution_count": null,
      "outputs": [
        {
          "output_type": "stream",
          "text": [
            "shape\n",
            " (784, 300) \n",
            "\n"
          ],
          "name": "stdout"
        },
        {
          "output_type": "execute_result",
          "data": {
            "text/plain": [
              "array([[ 0.03217652, -0.01186593, -0.03530351, ...,  0.02214805,\n",
              "        -0.06490748,  0.06684271],\n",
              "       [-0.01793233, -0.00472847, -0.0154996 , ...,  0.05146824,\n",
              "        -0.0373642 , -0.0215263 ],\n",
              "       [-0.04784323, -0.01313885,  0.01831921, ..., -0.01082107,\n",
              "         0.0146363 ,  0.03396148],\n",
              "       ...,\n",
              "       [ 0.05102354, -0.03909116,  0.01401947, ..., -0.0445058 ,\n",
              "        -0.06946859,  0.06660967],\n",
              "       [-0.03026358,  0.03453741, -0.03787037, ...,  0.0221971 ,\n",
              "        -0.04764985,  0.02157191],\n",
              "       [ 0.05143644, -0.03870134,  0.01450481, ...,  0.05704285,\n",
              "         0.07426484, -0.03019137]], dtype=float32)"
            ]
          },
          "metadata": {
            "tags": []
          },
          "execution_count": 24
        }
      ]
    },
    {
      "cell_type": "code",
      "metadata": {
        "id": "NFtn3qxuT1C7",
        "colab": {
          "base_uri": "https://localhost:8080/"
        },
        "outputId": "6df60a3a-f0a4-4547-eab7-49c163937033"
      },
      "source": [
        "print(\"shape\\n\", biases.shape)\n",
        "\n",
        "biases"
      ],
      "execution_count": null,
      "outputs": [
        {
          "output_type": "stream",
          "text": [
            "shape\n",
            " (300,)\n"
          ],
          "name": "stdout"
        },
        {
          "output_type": "execute_result",
          "data": {
            "text/plain": [
              "array([0., 0., 0., 0., 0., 0., 0., 0., 0., 0., 0., 0., 0., 0., 0., 0., 0.,\n",
              "       0., 0., 0., 0., 0., 0., 0., 0., 0., 0., 0., 0., 0., 0., 0., 0., 0.,\n",
              "       0., 0., 0., 0., 0., 0., 0., 0., 0., 0., 0., 0., 0., 0., 0., 0., 0.,\n",
              "       0., 0., 0., 0., 0., 0., 0., 0., 0., 0., 0., 0., 0., 0., 0., 0., 0.,\n",
              "       0., 0., 0., 0., 0., 0., 0., 0., 0., 0., 0., 0., 0., 0., 0., 0., 0.,\n",
              "       0., 0., 0., 0., 0., 0., 0., 0., 0., 0., 0., 0., 0., 0., 0., 0., 0.,\n",
              "       0., 0., 0., 0., 0., 0., 0., 0., 0., 0., 0., 0., 0., 0., 0., 0., 0.,\n",
              "       0., 0., 0., 0., 0., 0., 0., 0., 0., 0., 0., 0., 0., 0., 0., 0., 0.,\n",
              "       0., 0., 0., 0., 0., 0., 0., 0., 0., 0., 0., 0., 0., 0., 0., 0., 0.,\n",
              "       0., 0., 0., 0., 0., 0., 0., 0., 0., 0., 0., 0., 0., 0., 0., 0., 0.,\n",
              "       0., 0., 0., 0., 0., 0., 0., 0., 0., 0., 0., 0., 0., 0., 0., 0., 0.,\n",
              "       0., 0., 0., 0., 0., 0., 0., 0., 0., 0., 0., 0., 0., 0., 0., 0., 0.,\n",
              "       0., 0., 0., 0., 0., 0., 0., 0., 0., 0., 0., 0., 0., 0., 0., 0., 0.,\n",
              "       0., 0., 0., 0., 0., 0., 0., 0., 0., 0., 0., 0., 0., 0., 0., 0., 0.,\n",
              "       0., 0., 0., 0., 0., 0., 0., 0., 0., 0., 0., 0., 0., 0., 0., 0., 0.,\n",
              "       0., 0., 0., 0., 0., 0., 0., 0., 0., 0., 0., 0., 0., 0., 0., 0., 0.,\n",
              "       0., 0., 0., 0., 0., 0., 0., 0., 0., 0., 0., 0., 0., 0., 0., 0., 0.,\n",
              "       0., 0., 0., 0., 0., 0., 0., 0., 0., 0., 0.], dtype=float32)"
            ]
          },
          "metadata": {
            "tags": []
          },
          "execution_count": 25
        }
      ]
    },
    {
      "cell_type": "code",
      "metadata": {
        "id": "B0LyAwftT1C_"
      },
      "source": [
        "LOSS_FUNCTION = \"sparse_categorical_crossentropy\" # use => tf.losses.sparse_categorical_crossentropy\n",
        "OPTIMIZER = \"SGD\" # or use with custom learning rate=> tf.keras.optimizers.SGD(0.02)\n",
        "METRICS = [\"accuracy\"]\n",
        "\n",
        "model_clf.compile(loss=LOSS_FUNCTION,\n",
        "              optimizer=OPTIMIZER,\n",
        "              metrics=METRICS)\n",
        "\n"
      ],
      "execution_count": null,
      "outputs": []
    },
    {
      "cell_type": "markdown",
      "metadata": {
        "id": "-U2yx-_hT1DF"
      },
      "source": [
        "#### Alternatively \n",
        "```python\n",
        "model_clf.compile(loss=tf.losses.sparse_categorical_crossentropy,\n",
        "               optimizer=tf.keras.optimizers.SGD(0.02),\n",
        "               metrics=[\"accuracy\"])\n",
        "```"
      ]
    },
    {
      "cell_type": "code",
      "metadata": {
        "id": "wCKQ0L6QT1DG"
      },
      "source": [
        "# 1719*30, X_train.shape, 55000/32, batch size=32 by default"
      ],
      "execution_count": null,
      "outputs": []
    },
    {
      "cell_type": "code",
      "metadata": {
        "id": "EGIFIh7UT1DK",
        "colab": {
          "base_uri": "https://localhost:8080/"
        },
        "outputId": "8d7e8cd1-f21c-4ab5-ac25-84cdfdedbe51"
      },
      "source": [
        "EPOCHS = 30\n",
        "VALIDATION_SET = (X_valid, y_valid)\n",
        "\n",
        "history = model_clf.fit(X_train, y_train, epochs=EPOCHS,\n",
        "                    validation_data=VALIDATION_SET)\n"
      ],
      "execution_count": null,
      "outputs": [
        {
          "output_type": "stream",
          "text": [
            "Epoch 1/30\n",
            "1719/1719 [==============================] - 7s 2ms/step - loss: 1.0027 - accuracy: 0.7381 - val_loss: 0.3021 - val_accuracy: 0.9166\n",
            "Epoch 2/30\n",
            "1719/1719 [==============================] - 3s 2ms/step - loss: 0.3045 - accuracy: 0.9131 - val_loss: 0.2429 - val_accuracy: 0.9330\n",
            "Epoch 3/30\n",
            "1719/1719 [==============================] - 3s 2ms/step - loss: 0.2441 - accuracy: 0.9297 - val_loss: 0.2053 - val_accuracy: 0.9414\n",
            "Epoch 4/30\n",
            "1719/1719 [==============================] - 3s 2ms/step - loss: 0.2056 - accuracy: 0.9400 - val_loss: 0.1826 - val_accuracy: 0.9500\n",
            "Epoch 5/30\n",
            "1719/1719 [==============================] - 3s 2ms/step - loss: 0.1780 - accuracy: 0.9491 - val_loss: 0.1588 - val_accuracy: 0.9568\n",
            "Epoch 6/30\n",
            "1719/1719 [==============================] - 3s 2ms/step - loss: 0.1567 - accuracy: 0.9553 - val_loss: 0.1442 - val_accuracy: 0.9612\n",
            "Epoch 7/30\n",
            "1719/1719 [==============================] - 3s 2ms/step - loss: 0.1405 - accuracy: 0.9598 - val_loss: 0.1338 - val_accuracy: 0.9640\n",
            "Epoch 8/30\n",
            "1719/1719 [==============================] - 3s 2ms/step - loss: 0.1275 - accuracy: 0.9630 - val_loss: 0.1236 - val_accuracy: 0.9672\n",
            "Epoch 9/30\n",
            "1719/1719 [==============================] - 3s 2ms/step - loss: 0.1181 - accuracy: 0.9670 - val_loss: 0.1163 - val_accuracy: 0.9694\n",
            "Epoch 10/30\n",
            "1719/1719 [==============================] - 3s 2ms/step - loss: 0.1072 - accuracy: 0.9700 - val_loss: 0.1066 - val_accuracy: 0.9710\n",
            "Epoch 11/30\n",
            "1719/1719 [==============================] - 3s 2ms/step - loss: 0.1002 - accuracy: 0.9716 - val_loss: 0.1041 - val_accuracy: 0.9718\n",
            "Epoch 12/30\n",
            "1719/1719 [==============================] - 3s 2ms/step - loss: 0.0925 - accuracy: 0.9747 - val_loss: 0.0980 - val_accuracy: 0.9736\n",
            "Epoch 13/30\n",
            "1719/1719 [==============================] - 3s 2ms/step - loss: 0.0806 - accuracy: 0.9773 - val_loss: 0.0968 - val_accuracy: 0.9722\n",
            "Epoch 14/30\n",
            "1719/1719 [==============================] - 3s 2ms/step - loss: 0.0770 - accuracy: 0.9789 - val_loss: 0.0909 - val_accuracy: 0.9748\n",
            "Epoch 15/30\n",
            "1719/1719 [==============================] - 3s 2ms/step - loss: 0.0726 - accuracy: 0.9800 - val_loss: 0.0861 - val_accuracy: 0.9752\n",
            "Epoch 16/30\n",
            "1719/1719 [==============================] - 3s 2ms/step - loss: 0.0664 - accuracy: 0.9819 - val_loss: 0.0829 - val_accuracy: 0.9766\n",
            "Epoch 17/30\n",
            "1719/1719 [==============================] - 3s 2ms/step - loss: 0.0654 - accuracy: 0.9828 - val_loss: 0.0826 - val_accuracy: 0.9754\n",
            "Epoch 18/30\n",
            "1719/1719 [==============================] - 3s 2ms/step - loss: 0.0561 - accuracy: 0.9857 - val_loss: 0.0814 - val_accuracy: 0.9764\n",
            "Epoch 19/30\n",
            "1719/1719 [==============================] - 3s 2ms/step - loss: 0.0547 - accuracy: 0.9854 - val_loss: 0.0781 - val_accuracy: 0.9778\n",
            "Epoch 20/30\n",
            "1719/1719 [==============================] - 3s 2ms/step - loss: 0.0511 - accuracy: 0.9869 - val_loss: 0.0783 - val_accuracy: 0.9760\n",
            "Epoch 21/30\n",
            "1719/1719 [==============================] - 3s 2ms/step - loss: 0.0478 - accuracy: 0.9873 - val_loss: 0.0782 - val_accuracy: 0.9762\n",
            "Epoch 22/30\n",
            "1719/1719 [==============================] - 3s 2ms/step - loss: 0.0449 - accuracy: 0.9884 - val_loss: 0.0717 - val_accuracy: 0.9802\n",
            "Epoch 23/30\n",
            "1719/1719 [==============================] - 3s 2ms/step - loss: 0.0420 - accuracy: 0.9894 - val_loss: 0.0713 - val_accuracy: 0.9792\n",
            "Epoch 24/30\n",
            "1719/1719 [==============================] - 3s 2ms/step - loss: 0.0387 - accuracy: 0.9912 - val_loss: 0.0694 - val_accuracy: 0.9802\n",
            "Epoch 25/30\n",
            "1719/1719 [==============================] - 3s 2ms/step - loss: 0.0378 - accuracy: 0.9906 - val_loss: 0.0704 - val_accuracy: 0.9796\n",
            "Epoch 26/30\n",
            "1719/1719 [==============================] - 3s 2ms/step - loss: 0.0353 - accuracy: 0.9917 - val_loss: 0.0719 - val_accuracy: 0.9780\n",
            "Epoch 27/30\n",
            "1719/1719 [==============================] - 3s 2ms/step - loss: 0.0340 - accuracy: 0.9925 - val_loss: 0.0696 - val_accuracy: 0.9804\n",
            "Epoch 28/30\n",
            "1719/1719 [==============================] - 3s 2ms/step - loss: 0.0323 - accuracy: 0.9925 - val_loss: 0.0669 - val_accuracy: 0.9798\n",
            "Epoch 29/30\n",
            "1719/1719 [==============================] - 3s 2ms/step - loss: 0.0295 - accuracy: 0.9931 - val_loss: 0.0692 - val_accuracy: 0.9792\n",
            "Epoch 30/30\n",
            "1719/1719 [==============================] - 3s 2ms/step - loss: 0.0290 - accuracy: 0.9937 - val_loss: 0.0671 - val_accuracy: 0.9810\n"
          ],
          "name": "stdout"
        }
      ]
    },
    {
      "cell_type": "code",
      "metadata": {
        "id": "DXMsCUOHT1DS"
      },
      "source": [
        "import time\n",
        "import os\n",
        "\n",
        "def saveModel_path(model_dir=\"SAVED_MODELS\"):\n",
        "    os.makedirs(model_dir, exist_ok=True)\n",
        "    fileName = time.strftime(\"Model_%Y_%m_%d_%H_%M_%S_.h5\")    \n",
        "    model_path = os.path.join(model_dir, fileName)\n",
        "    print(f\"your model will be saved at the following location\\n{model_path}\")\n",
        "    return model_path\n"
      ],
      "execution_count": null,
      "outputs": []
    },
    {
      "cell_type": "code",
      "metadata": {
        "id": "j5vyx4ALT1DX",
        "colab": {
          "base_uri": "https://localhost:8080/"
        },
        "outputId": "97de5131-0225-456b-9b76-b1792fb74f9f"
      },
      "source": [
        "UNIQUE_PATH = model_clf.save(saveModel_path())"
      ],
      "execution_count": null,
      "outputs": [
        {
          "output_type": "stream",
          "text": [
            "your model will be saved at the following location\n",
            "SAVED_MODELS/Model_2021_05_16_01_14_36_.h5\n"
          ],
          "name": "stdout"
        }
      ]
    },
    {
      "cell_type": "code",
      "metadata": {
        "id": "fYWSNdS9T1Dj",
        "colab": {
          "base_uri": "https://localhost:8080/"
        },
        "outputId": "80425d91-9eef-4557-8e5c-23088b86dc40"
      },
      "source": [
        "history.params\n"
      ],
      "execution_count": null,
      "outputs": [
        {
          "output_type": "execute_result",
          "data": {
            "text/plain": [
              "{'epochs': 30, 'steps': 1719, 'verbose': 1}"
            ]
          },
          "metadata": {
            "tags": []
          },
          "execution_count": 31
        }
      ]
    },
    {
      "cell_type": "code",
      "metadata": {
        "id": "K9rtm3p2T1Do",
        "colab": {
          "base_uri": "https://localhost:8080/",
          "height": 973
        },
        "outputId": "7c58ca24-11b4-44e9-8231-78d60d869779"
      },
      "source": [
        "pd.DataFrame(history.history)"
      ],
      "execution_count": null,
      "outputs": [
        {
          "output_type": "execute_result",
          "data": {
            "text/html": [
              "<div>\n",
              "<style scoped>\n",
              "    .dataframe tbody tr th:only-of-type {\n",
              "        vertical-align: middle;\n",
              "    }\n",
              "\n",
              "    .dataframe tbody tr th {\n",
              "        vertical-align: top;\n",
              "    }\n",
              "\n",
              "    .dataframe thead th {\n",
              "        text-align: right;\n",
              "    }\n",
              "</style>\n",
              "<table border=\"1\" class=\"dataframe\">\n",
              "  <thead>\n",
              "    <tr style=\"text-align: right;\">\n",
              "      <th></th>\n",
              "      <th>loss</th>\n",
              "      <th>accuracy</th>\n",
              "      <th>val_loss</th>\n",
              "      <th>val_accuracy</th>\n",
              "    </tr>\n",
              "  </thead>\n",
              "  <tbody>\n",
              "    <tr>\n",
              "      <th>0</th>\n",
              "      <td>0.598195</td>\n",
              "      <td>0.846345</td>\n",
              "      <td>0.302085</td>\n",
              "      <td>0.9166</td>\n",
              "    </tr>\n",
              "    <tr>\n",
              "      <th>1</th>\n",
              "      <td>0.286739</td>\n",
              "      <td>0.917782</td>\n",
              "      <td>0.242876</td>\n",
              "      <td>0.9330</td>\n",
              "    </tr>\n",
              "    <tr>\n",
              "      <th>2</th>\n",
              "      <td>0.235610</td>\n",
              "      <td>0.932291</td>\n",
              "      <td>0.205304</td>\n",
              "      <td>0.9414</td>\n",
              "    </tr>\n",
              "    <tr>\n",
              "      <th>3</th>\n",
              "      <td>0.202196</td>\n",
              "      <td>0.942236</td>\n",
              "      <td>0.182553</td>\n",
              "      <td>0.9500</td>\n",
              "    </tr>\n",
              "    <tr>\n",
              "      <th>4</th>\n",
              "      <td>0.177123</td>\n",
              "      <td>0.949509</td>\n",
              "      <td>0.158780</td>\n",
              "      <td>0.9568</td>\n",
              "    </tr>\n",
              "    <tr>\n",
              "      <th>5</th>\n",
              "      <td>0.157423</td>\n",
              "      <td>0.955327</td>\n",
              "      <td>0.144199</td>\n",
              "      <td>0.9612</td>\n",
              "    </tr>\n",
              "    <tr>\n",
              "      <th>6</th>\n",
              "      <td>0.141312</td>\n",
              "      <td>0.959364</td>\n",
              "      <td>0.133787</td>\n",
              "      <td>0.9640</td>\n",
              "    </tr>\n",
              "    <tr>\n",
              "      <th>7</th>\n",
              "      <td>0.128245</td>\n",
              "      <td>0.963491</td>\n",
              "      <td>0.123556</td>\n",
              "      <td>0.9672</td>\n",
              "    </tr>\n",
              "    <tr>\n",
              "      <th>8</th>\n",
              "      <td>0.116761</td>\n",
              "      <td>0.967164</td>\n",
              "      <td>0.116329</td>\n",
              "      <td>0.9694</td>\n",
              "    </tr>\n",
              "    <tr>\n",
              "      <th>9</th>\n",
              "      <td>0.106912</td>\n",
              "      <td>0.969527</td>\n",
              "      <td>0.106637</td>\n",
              "      <td>0.9710</td>\n",
              "    </tr>\n",
              "    <tr>\n",
              "      <th>10</th>\n",
              "      <td>0.098651</td>\n",
              "      <td>0.971873</td>\n",
              "      <td>0.104104</td>\n",
              "      <td>0.9718</td>\n",
              "    </tr>\n",
              "    <tr>\n",
              "      <th>11</th>\n",
              "      <td>0.090904</td>\n",
              "      <td>0.975164</td>\n",
              "      <td>0.098008</td>\n",
              "      <td>0.9736</td>\n",
              "    </tr>\n",
              "    <tr>\n",
              "      <th>12</th>\n",
              "      <td>0.084418</td>\n",
              "      <td>0.976873</td>\n",
              "      <td>0.096802</td>\n",
              "      <td>0.9722</td>\n",
              "    </tr>\n",
              "    <tr>\n",
              "      <th>13</th>\n",
              "      <td>0.077949</td>\n",
              "      <td>0.978582</td>\n",
              "      <td>0.090880</td>\n",
              "      <td>0.9748</td>\n",
              "    </tr>\n",
              "    <tr>\n",
              "      <th>14</th>\n",
              "      <td>0.072924</td>\n",
              "      <td>0.979800</td>\n",
              "      <td>0.086145</td>\n",
              "      <td>0.9752</td>\n",
              "    </tr>\n",
              "    <tr>\n",
              "      <th>15</th>\n",
              "      <td>0.068143</td>\n",
              "      <td>0.981291</td>\n",
              "      <td>0.082856</td>\n",
              "      <td>0.9766</td>\n",
              "    </tr>\n",
              "    <tr>\n",
              "      <th>16</th>\n",
              "      <td>0.063787</td>\n",
              "      <td>0.982818</td>\n",
              "      <td>0.082553</td>\n",
              "      <td>0.9754</td>\n",
              "    </tr>\n",
              "    <tr>\n",
              "      <th>17</th>\n",
              "      <td>0.059225</td>\n",
              "      <td>0.984436</td>\n",
              "      <td>0.081408</td>\n",
              "      <td>0.9764</td>\n",
              "    </tr>\n",
              "    <tr>\n",
              "      <th>18</th>\n",
              "      <td>0.055649</td>\n",
              "      <td>0.985436</td>\n",
              "      <td>0.078062</td>\n",
              "      <td>0.9778</td>\n",
              "    </tr>\n",
              "    <tr>\n",
              "      <th>19</th>\n",
              "      <td>0.051932</td>\n",
              "      <td>0.986200</td>\n",
              "      <td>0.078313</td>\n",
              "      <td>0.9760</td>\n",
              "    </tr>\n",
              "    <tr>\n",
              "      <th>20</th>\n",
              "      <td>0.048772</td>\n",
              "      <td>0.987055</td>\n",
              "      <td>0.078224</td>\n",
              "      <td>0.9762</td>\n",
              "    </tr>\n",
              "    <tr>\n",
              "      <th>21</th>\n",
              "      <td>0.045947</td>\n",
              "      <td>0.988073</td>\n",
              "      <td>0.071691</td>\n",
              "      <td>0.9802</td>\n",
              "    </tr>\n",
              "    <tr>\n",
              "      <th>22</th>\n",
              "      <td>0.042974</td>\n",
              "      <td>0.988927</td>\n",
              "      <td>0.071279</td>\n",
              "      <td>0.9792</td>\n",
              "    </tr>\n",
              "    <tr>\n",
              "      <th>23</th>\n",
              "      <td>0.040530</td>\n",
              "      <td>0.989982</td>\n",
              "      <td>0.069379</td>\n",
              "      <td>0.9802</td>\n",
              "    </tr>\n",
              "    <tr>\n",
              "      <th>24</th>\n",
              "      <td>0.038240</td>\n",
              "      <td>0.990455</td>\n",
              "      <td>0.070370</td>\n",
              "      <td>0.9796</td>\n",
              "    </tr>\n",
              "    <tr>\n",
              "      <th>25</th>\n",
              "      <td>0.036048</td>\n",
              "      <td>0.991473</td>\n",
              "      <td>0.071922</td>\n",
              "      <td>0.9780</td>\n",
              "    </tr>\n",
              "    <tr>\n",
              "      <th>26</th>\n",
              "      <td>0.033711</td>\n",
              "      <td>0.992382</td>\n",
              "      <td>0.069641</td>\n",
              "      <td>0.9804</td>\n",
              "    </tr>\n",
              "    <tr>\n",
              "      <th>27</th>\n",
              "      <td>0.032049</td>\n",
              "      <td>0.992582</td>\n",
              "      <td>0.066937</td>\n",
              "      <td>0.9798</td>\n",
              "    </tr>\n",
              "    <tr>\n",
              "      <th>28</th>\n",
              "      <td>0.029969</td>\n",
              "      <td>0.992982</td>\n",
              "      <td>0.069178</td>\n",
              "      <td>0.9792</td>\n",
              "    </tr>\n",
              "    <tr>\n",
              "      <th>29</th>\n",
              "      <td>0.028379</td>\n",
              "      <td>0.993582</td>\n",
              "      <td>0.067136</td>\n",
              "      <td>0.9810</td>\n",
              "    </tr>\n",
              "  </tbody>\n",
              "</table>\n",
              "</div>"
            ],
            "text/plain": [
              "        loss  accuracy  val_loss  val_accuracy\n",
              "0   0.598195  0.846345  0.302085        0.9166\n",
              "1   0.286739  0.917782  0.242876        0.9330\n",
              "2   0.235610  0.932291  0.205304        0.9414\n",
              "3   0.202196  0.942236  0.182553        0.9500\n",
              "4   0.177123  0.949509  0.158780        0.9568\n",
              "5   0.157423  0.955327  0.144199        0.9612\n",
              "6   0.141312  0.959364  0.133787        0.9640\n",
              "7   0.128245  0.963491  0.123556        0.9672\n",
              "8   0.116761  0.967164  0.116329        0.9694\n",
              "9   0.106912  0.969527  0.106637        0.9710\n",
              "10  0.098651  0.971873  0.104104        0.9718\n",
              "11  0.090904  0.975164  0.098008        0.9736\n",
              "12  0.084418  0.976873  0.096802        0.9722\n",
              "13  0.077949  0.978582  0.090880        0.9748\n",
              "14  0.072924  0.979800  0.086145        0.9752\n",
              "15  0.068143  0.981291  0.082856        0.9766\n",
              "16  0.063787  0.982818  0.082553        0.9754\n",
              "17  0.059225  0.984436  0.081408        0.9764\n",
              "18  0.055649  0.985436  0.078062        0.9778\n",
              "19  0.051932  0.986200  0.078313        0.9760\n",
              "20  0.048772  0.987055  0.078224        0.9762\n",
              "21  0.045947  0.988073  0.071691        0.9802\n",
              "22  0.042974  0.988927  0.071279        0.9792\n",
              "23  0.040530  0.989982  0.069379        0.9802\n",
              "24  0.038240  0.990455  0.070370        0.9796\n",
              "25  0.036048  0.991473  0.071922        0.9780\n",
              "26  0.033711  0.992382  0.069641        0.9804\n",
              "27  0.032049  0.992582  0.066937        0.9798\n",
              "28  0.029969  0.992982  0.069178        0.9792\n",
              "29  0.028379  0.993582  0.067136        0.9810"
            ]
          },
          "metadata": {
            "tags": []
          },
          "execution_count": 32
        }
      ]
    },
    {
      "cell_type": "code",
      "metadata": {
        "id": "P6nerhjCT1Ds",
        "colab": {
          "base_uri": "https://localhost:8080/",
          "height": 324
        },
        "outputId": "87f3050c-6b41-4470-8ee8-cf53cfffa8d5"
      },
      "source": [
        "pd.DataFrame(history.history).plot(figsize=(8, 5))\n",
        "plt.grid(True)\n",
        "plt.gca().set_ylim(0, 1)\n",
        "plt.show()"
      ],
      "execution_count": null,
      "outputs": [
        {
          "output_type": "display_data",
          "data": {
            "image/png": "[encoded data removed]",
            "text/plain": [
              "<Figure size 576x360 with 1 Axes>"
            ]
          },
          "metadata": {
            "tags": [],
            "needs_background": "light"
          }
        }
      ]
    },
    {
      "cell_type": "code",
      "metadata": {
        "id": "TON0RxLNT1Dw",
        "colab": {
          "base_uri": "https://localhost:8080/"
        },
        "outputId": "6ca7ff50-4114-4c9a-dea5-2b73a4dbb3de"
      },
      "source": [
        "model_clf.evaluate(X_test, y_test)"
      ],
      "execution_count": null,
      "outputs": [
        {
          "output_type": "stream",
          "text": [
            "313/313 [==============================] - 1s 2ms/step - loss: 0.0711 - accuracy: 0.9786\n"
          ],
          "name": "stdout"
        },
        {
          "output_type": "execute_result",
          "data": {
            "text/plain": [
              "[0.07113370299339294, 0.978600025177002]"
            ]
          },
          "metadata": {
            "tags": []
          },
          "execution_count": 34
        }
      ]
    },
    {
      "cell_type": "code",
      "metadata": {
        "id": "JRJ8ciK0T1D1",
        "colab": {
          "base_uri": "https://localhost:8080/"
        },
        "outputId": "cf89c0b4-3e60-4662-fde5-0ee80c104f76"
      },
      "source": [
        "X_new = X_test[:3]\n",
        "y_proba = model_clf.predict(X_new)\n",
        "y_proba.round(2)"
      ],
      "execution_count": null,
      "outputs": [
        {
          "output_type": "execute_result",
          "data": {
            "text/plain": [
              "array([[0., 0., 0., 0., 0., 0., 0., 1., 0., 0.],\n",
              "       [0., 0., 1., 0., 0., 0., 0., 0., 0., 0.],\n",
              "       [0., 1., 0., 0., 0., 0., 0., 0., 0., 0.]], dtype=float32)"
            ]
          },
          "metadata": {
            "tags": []
          },
          "execution_count": 35
        }
      ]
    },
    {
      "cell_type": "code",
      "metadata": {
        "id": "ofk-RtanT1D5",
        "colab": {
          "base_uri": "https://localhost:8080/"
        },
        "outputId": "31292c9b-cc43-4f73-9d2e-373a0da08f58"
      },
      "source": [
        "y_pred = np.argmax(model_clf.predict(X_new), axis=-1)\n",
        "y_pred"
      ],
      "execution_count": null,
      "outputs": [
        {
          "output_type": "execute_result",
          "data": {
            "text/plain": [
              "array([7, 2, 1])"
            ]
          },
          "metadata": {
            "tags": []
          },
          "execution_count": 36
        }
      ]
    },
    {
      "cell_type": "code",
      "metadata": {
        "id": "NzDbztGcT1D-"
      },
      "source": [
        "y_test_new = y_test[:3]"
      ],
      "execution_count": null,
      "outputs": []
    },
    {
      "cell_type": "code",
      "metadata": {
        "id": "ie5Kz7BBT1EC",
        "colab": {
          "base_uri": "https://localhost:8080/",
          "height": 811
        },
        "outputId": "a01fb2f1-f2a1-44fd-c6bd-b7750efa8c76"
      },
      "source": [
        "for data, pred, actual in zip(X_new, y_pred, y_test_new):\n",
        "    plt.imshow(data, cmap=\"binary\")\n",
        "    plt.title(f\"Predicted: {pred}, Actual: {actual}\")\n",
        "    plt.axis('off')\n",
        "    plt.show()\n",
        "    print(\"---\"*20)"
      ],
      "execution_count": null,
      "outputs": [
        {
          "output_type": "display_data",
          "data": {
            "image/png": "[encoded data removed]",
            "text/plain": [
              "<Figure size 432x288 with 1 Axes>"
            ]
          },
          "metadata": {
            "tags": [],
            "needs_background": "light"
          }
        },
        {
          "output_type": "stream",
          "text": [
            "------------------------------------------------------------\n"
          ],
          "name": "stdout"
        },
        {
          "output_type": "display_data",
          "data": {
            "image/png": "[encoded data removed]",
            "text/plain": [
              "<Figure size 432x288 with 1 Axes>"
            ]
          },
          "metadata": {
            "tags": [],
            "needs_background": "light"
          }
        },
        {
          "output_type": "stream",
          "text": [
            "------------------------------------------------------------\n"
          ],
          "name": "stdout"
        },
        {
          "output_type": "display_data",
          "data": {
            "image/png": "[encoded data removed]",
            "text/plain": [
              "<Figure size 432x288 with 1 Axes>"
            ]
          },
          "metadata": {
            "tags": [],
            "needs_background": "light"
          }
        },
        {
          "output_type": "stream",
          "text": [
            "------------------------------------------------------------\n"
          ],
          "name": "stdout"
        }
      ]
    },
    {
      "cell_type": "code",
      "metadata": {
        "id": "z4-YqwoJvJHb"
      },
      "source": [
        "weights, biases = hidden1.get_weights()\n"
      ],
      "execution_count": null,
      "outputs": []
    },
    {
      "cell_type": "code",
      "metadata": {
        "colab": {
          "base_uri": "https://localhost:8080/"
        },
        "id": "9KsknsJXvKqm",
        "outputId": "8bdf7c2e-8409-41e7-839b-957968c7a21c"
      },
      "source": [
        "weights"
      ],
      "execution_count": null,
      "outputs": [
        {
          "output_type": "execute_result",
          "data": {
            "text/plain": [
              "array([[ 0.03217652, -0.01186593, -0.03530351, ...,  0.02214805,\n",
              "        -0.06490748,  0.06684271],\n",
              "       [-0.01793233, -0.00472847, -0.0154996 , ...,  0.05146824,\n",
              "        -0.0373642 , -0.0215263 ],\n",
              "       [-0.04784323, -0.01313885,  0.01831921, ..., -0.01082107,\n",
              "         0.0146363 ,  0.03396148],\n",
              "       ...,\n",
              "       [ 0.05102354, -0.03909116,  0.01401947, ..., -0.0445058 ,\n",
              "        -0.06946859,  0.06660967],\n",
              "       [-0.03026358,  0.03453741, -0.03787037, ...,  0.0221971 ,\n",
              "        -0.04764985,  0.02157191],\n",
              "       [ 0.05143644, -0.03870134,  0.01450481, ...,  0.05704285,\n",
              "         0.07426484, -0.03019137]], dtype=float32)"
            ]
          },
          "metadata": {
            "tags": []
          },
          "execution_count": 40
        }
      ]
    },
    {
      "cell_type": "code",
      "metadata": {
        "colab": {
          "base_uri": "https://localhost:8080/"
        },
        "id": "V4rUxFfgvM4o",
        "outputId": "1b6ebf82-0bc3-436a-a11e-4175db5f15f0"
      },
      "source": [
        "biases"
      ],
      "execution_count": null,
      "outputs": [
        {
          "output_type": "execute_result",
          "data": {
            "text/plain": [
              "array([ 3.45887914e-02,  1.93311777e-02,  1.62611771e-02,  1.03053562e-02,\n",
              "        2.18127109e-02, -7.04615610e-04,  4.90740612e-02,  3.85399628e-03,\n",
              "        9.30735748e-03, -7.21838744e-03,  3.36385635e-03, -3.51910805e-03,\n",
              "        1.30453547e-02, -5.40384557e-03,  2.54492741e-02,  2.49807164e-02,\n",
              "        2.16822419e-02,  9.37504414e-03,  1.40315155e-02,  2.47444026e-02,\n",
              "        6.26744404e-02,  4.01330851e-02,  1.75270904e-02,  1.14477975e-02,\n",
              "        7.05646630e-03,  4.45906259e-02,  3.21433991e-02,  2.44430695e-02,\n",
              "       -5.63907204e-03, -1.05923954e-02, -2.33507603e-02,  2.95730382e-02,\n",
              "        1.59715246e-02, -2.54293368e-03, -1.45488721e-03,  1.56615395e-03,\n",
              "        4.30047512e-02, -2.40426557e-03,  2.60953475e-02, -5.67868352e-03,\n",
              "        5.36454096e-02,  3.81024322e-03,  2.81242933e-02,  4.36961511e-03,\n",
              "        4.46182638e-02,  4.98251915e-02,  8.13184679e-03, -6.97196200e-02,\n",
              "        9.10370983e-03,  9.80966352e-03,  2.85955481e-02,  3.78530808e-02,\n",
              "        4.01560590e-02, -5.94173849e-04,  2.72646695e-02, -4.01526690e-02,\n",
              "        3.99389528e-02,  6.62972173e-03,  1.07987374e-02,  5.95921129e-02,\n",
              "       -1.85625814e-03,  1.15709454e-02,  1.83358174e-02, -2.08954290e-02,\n",
              "        1.06850704e-02,  2.27554981e-02, -9.71259642e-03,  4.48760279e-02,\n",
              "        5.00233844e-02,  1.22226449e-02, -8.25105514e-03,  1.41381174e-02,\n",
              "        4.85266857e-02,  6.82291314e-02,  2.20985524e-02, -4.28612716e-02,\n",
              "       -2.52550875e-04,  3.02906055e-02,  2.32542977e-02, -4.28936481e-02,\n",
              "       -1.33589255e-02, -4.19231830e-03,  1.31112970e-02,  6.12645186e-02,\n",
              "        3.44912261e-02,  4.67452072e-02,  4.07669283e-02, -3.11580412e-02,\n",
              "       -5.07297507e-03,  2.22032219e-02,  7.95280561e-03, -4.26445203e-03,\n",
              "       -4.45513651e-02,  6.92775846e-02,  4.51366194e-02,  6.01510750e-03,\n",
              "        7.80967157e-03,  3.05921100e-02, -2.06572786e-02, -2.49654260e-02,\n",
              "       -5.26053458e-02,  1.00509664e-02,  5.28186467e-03,  2.15038899e-02,\n",
              "        2.80173309e-02, -4.05146778e-02, -1.05309859e-02,  5.70123121e-02,\n",
              "       -2.61104405e-02,  5.79802645e-03,  4.38172072e-02,  1.21338181e-02,\n",
              "        3.38331386e-02,  1.45430292e-03,  4.42230888e-02,  3.64365168e-02,\n",
              "        4.30828258e-02,  5.82211465e-02, -1.16106160e-02, -3.22906068e-03,\n",
              "       -4.30733338e-03,  3.44731621e-02,  1.35468487e-02, -1.15144690e-02,\n",
              "       -3.09410924e-03,  4.23512757e-02, -2.24793740e-02,  1.82482740e-03,\n",
              "        6.24231994e-02,  6.08675145e-02, -4.56425250e-02,  1.05716838e-02,\n",
              "        1.63852181e-02, -2.35502105e-02, -1.23360157e-02,  2.88195517e-02,\n",
              "       -2.15622447e-02,  5.61237261e-02, -1.75252873e-02,  8.32593720e-03,\n",
              "        5.41766696e-02, -3.23242024e-02,  2.07985230e-02,  3.74491401e-02,\n",
              "        3.50729600e-02,  1.35002481e-02, -1.71198088e-04,  1.38979927e-02,\n",
              "        1.64364949e-02,  2.17072535e-02,  2.40940545e-02,  2.84050740e-02,\n",
              "        1.19741214e-03,  6.49385201e-03,  3.18329148e-02, -1.28231826e-03,\n",
              "        4.25147153e-02, -2.31086817e-02, -3.98348533e-02, -7.48323742e-03,\n",
              "        2.04105247e-02,  1.91582169e-03,  1.67780221e-02,  3.96039374e-02,\n",
              "       -1.39002725e-02, -2.30455734e-02,  8.68739653e-03,  2.58947276e-02,\n",
              "       -4.91342042e-03,  1.15179233e-02,  3.65849249e-02,  1.98629200e-02,\n",
              "        3.96602263e-04,  6.12154696e-03,  3.68306674e-02,  8.20227154e-03,\n",
              "        1.77184790e-02,  4.19407189e-02,  3.27774137e-02,  1.86757240e-02,\n",
              "        3.66372243e-03,  2.16869991e-02,  4.09790082e-03,  2.30615074e-03,\n",
              "       -8.97907943e-04,  4.82504964e-02,  6.35044370e-03,  4.94179763e-02,\n",
              "        3.32823545e-02,  3.65033336e-02, -2.08715666e-02,  1.88423209e-02,\n",
              "       -4.88955714e-02, -9.13837645e-03,  5.25033735e-02,  4.71386947e-02,\n",
              "       -2.62298086e-03, -9.44109913e-03,  2.86461529e-03,  7.29202619e-03,\n",
              "        7.40346611e-02, -1.25211319e-02,  1.27922362e-02,  5.34233451e-02,\n",
              "        1.22816823e-02,  6.23839609e-02, -1.12096360e-02, -5.95327318e-02,\n",
              "        4.99951318e-02,  3.29579273e-03,  1.55090159e-02,  1.09492643e-02,\n",
              "       -1.07185561e-02,  3.16781700e-02,  6.14348846e-03,  1.75973941e-02,\n",
              "        3.13478522e-02, -4.17529717e-02,  1.28845787e-02,  2.91594188e-03,\n",
              "        3.34718935e-02, -7.24158585e-02, -4.91969213e-02,  7.22850487e-02,\n",
              "       -2.06676815e-02,  3.92930917e-02,  5.77262081e-02,  8.84028226e-02,\n",
              "        3.47349867e-02, -1.55243911e-02,  7.47156814e-02,  2.08660699e-02,\n",
              "        3.20104323e-02,  4.05543409e-02,  3.10572479e-02, -6.92115910e-03,\n",
              "        6.36343204e-04,  1.06000183e-02, -2.46371161e-02,  3.35058905e-02,\n",
              "        2.62193792e-02,  1.93248019e-02, -8.51686019e-03,  6.47683218e-02,\n",
              "        7.24512264e-02,  1.56619232e-02,  3.14474627e-02,  1.41376480e-02,\n",
              "        5.96872643e-02,  1.06434161e-02,  7.04744160e-02,  3.01363063e-03,\n",
              "        1.57124419e-02, -1.79936755e-02, -2.79778522e-02,  4.45422716e-02,\n",
              "        6.55971962e-05,  1.93926059e-02,  4.21319902e-02,  7.31283193e-03,\n",
              "       -2.97744554e-02,  1.19082769e-02,  4.30485560e-03,  6.70437049e-03,\n",
              "        3.12418565e-02,  2.51013692e-02,  2.51776706e-02,  2.05010902e-02,\n",
              "        2.27243602e-02,  4.32947977e-03,  3.28170955e-02,  4.25346978e-02,\n",
              "        1.01476526e-02, -3.90243568e-02,  5.25572672e-02,  7.53449127e-02,\n",
              "       -3.57012302e-02,  3.06290947e-02,  2.64593512e-02, -1.86714437e-03,\n",
              "        3.05458680e-02, -4.23336588e-02,  2.63242656e-03, -2.04338618e-02,\n",
              "        3.10959970e-03, -1.23305051e-02, -3.39483246e-02,  1.09239034e-02,\n",
              "       -9.68473032e-03,  3.33642699e-02,  1.08961970e-01, -7.64362141e-03,\n",
              "        5.61784767e-03,  4.16178070e-02,  1.55084319e-02, -5.07938722e-03,\n",
              "        1.24291992e-02,  8.66531394e-03,  8.41950998e-03,  5.12203537e-02],\n",
              "      dtype=float32)"
            ]
          },
          "metadata": {
            "tags": []
          },
          "execution_count": 41
        }
      ]
    },
    {
      "cell_type": "markdown",
      "metadata": {
        "id": "qOIt8yhXT1EM"
      },
      "source": [
        "<iframe src=\"https://slides.com/supremecommander/basic-neural-network/embed\" width=\"576\" height=\"420\" scrolling=\"no\" frameborder=\"0\" webkitallowfullscreen mozallowfullscreen allowfullscreen></iframe>"
      ]
    },
    {
      "cell_type": "markdown",
      "metadata": {
        "id": "kfSJUWAST1ER"
      },
      "source": [
        "<iframe src=\"https://slides.com/supremecommander/basic-neural-network/embed\" width=\"576\" height=\"420\" scrolling=\"no\" frameborder=\"0\" webkitallowfullscreen mozallowfullscreen allowfullscreen></iframe>"
      ]
    }
  ]
}