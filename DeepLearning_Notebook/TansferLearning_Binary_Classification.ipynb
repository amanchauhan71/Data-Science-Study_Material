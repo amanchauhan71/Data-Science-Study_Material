{
  "cells": [
    {
      "cell_type": "code",
      "execution_count": null,
      "metadata": {
        "id": "RdhZ5mXDRJY6"
      },
      "outputs": [],
      "source": [
        "import os\n",
        "import tensorflow as tf\n",
        "import numpy as np\n",
        "import matplotlib.pyplot as plt\n",
        "import seaborn as sns\n",
        "plt.style.use(\"fivethirtyeight\")\n",
        "%load_ext tensorboard"
      ]
    },
    {
      "cell_type": "markdown",
      "metadata": {
        "id": "smlatFmKJVYu"
      },
      "source": [
        "## Xavier and He Initialization"
      ]
    },
    {
      "cell_type": "code",
      "execution_count": null,
      "metadata": {
        "colab": {
          "base_uri": "https://localhost:8080/"
        },
        "id": "2O3KjiUfJVYv",
        "outputId": "8d454396-d4b6-4f56-db3e-62ce0a8261e6"
      },
      "outputs": [
        {
          "data": {
            "text/plain": [
              "<tensorflow.python.keras.layers.core.Dense at 0x7f1939c6c790>"
            ]
          },
          "execution_count": 2,
          "metadata": {},
          "output_type": "execute_result"
        }
      ],
      "source": [
        "tf.keras.layers.Dense(10, activation=\"relu\", kernel_initializer=\"he_normal\")"
      ]
    },
    {
      "cell_type": "markdown",
      "metadata": {
        "id": "iVZGX9vZJVYw"
      },
      "source": [
        "Let's train a neural network on Fashion MNIST using the Leaky ReLU:"
      ]
    },
    {
      "cell_type": "code",
      "execution_count": null,
      "metadata": {
        "id": "AFV1JjZdJVYw"
      },
      "outputs": [],
      "source": [
        "(X_train_full, y_train_full), (X_test, y_test) = tf.keras.datasets.mnist.load_data()\n",
        "X_train_full = X_train_full / 255.0\n",
        "X_test = X_test / 255.0\n",
        "X_valid, X_train = X_train_full[:5000], X_train_full[5000:]\n",
        "y_valid, y_train = y_train_full[:5000], y_train_full[5000:]"
      ]
    },
    {
      "cell_type": "code",
      "execution_count": null,
      "metadata": {
        "id": "W8IKWEjkJVYw"
      },
      "outputs": [],
      "source": [
        "tf.random.set_seed(42)\n",
        "np.random.seed(42)\n",
        "\n",
        "LAYERS = [ tf.keras.layers.Flatten(input_shape=[28, 28]),\n",
        "    tf.keras.layers.Dense(300, kernel_initializer=\"he_normal\"),\n",
        "    tf.keras.layers.LeakyReLU(),\n",
        "    tf.keras.layers.Dense(100, kernel_initializer=\"he_normal\"),\n",
        "    tf.keras.layers.LeakyReLU(),\n",
        "    tf.keras.layers.Dense(10, activation=\"softmax\")]\n",
        "\n",
        "\n",
        "model = tf.keras.models.Sequential(LAYERS)"
      ]
    },
    {
      "cell_type": "code",
      "execution_count": null,
      "metadata": {
        "id": "YHVxFkNJJVYw"
      },
      "outputs": [],
      "source": [
        "model.compile(loss=\"sparse_categorical_crossentropy\",\n",
        "              optimizer=tf.keras.optimizers.SGD(lr=1e-3),\n",
        "              metrics=[\"accuracy\"])"
      ]
    },
    {
      "cell_type": "code",
      "execution_count": null,
      "metadata": {
        "colab": {
          "base_uri": "https://localhost:8080/"
        },
        "id": "sbVQZkWNUUBZ",
        "outputId": "0a376e81-b309-49e5-8d3c-dabd21b88477"
      },
      "outputs": [
        {
          "name": "stdout",
          "output_type": "stream",
          "text": [
            "Model: \"sequential\"\n",
            "_________________________________________________________________\n",
            "Layer (type)                 Output Shape              Param #   \n",
            "=================================================================\n",
            "flatten (Flatten)            (None, 784)               0         \n",
            "_________________________________________________________________\n",
            "dense_1 (Dense)              (None, 300)               235500    \n",
            "_________________________________________________________________\n",
            "leaky_re_lu (LeakyReLU)      (None, 300)               0         \n",
            "_________________________________________________________________\n",
            "dense_2 (Dense)              (None, 100)               30100     \n",
            "_________________________________________________________________\n",
            "leaky_re_lu_1 (LeakyReLU)    (None, 100)               0         \n",
            "_________________________________________________________________\n",
            "dense_3 (Dense)              (None, 10)                1010      \n",
            "=================================================================\n",
            "Total params: 266,610\n",
            "Trainable params: 266,610\n",
            "Non-trainable params: 0\n",
            "_________________________________________________________________\n"
          ]
        }
      ],
      "source": [
        "model.summary()"
      ]
    },
    {
      "cell_type": "code",
      "execution_count": null,
      "metadata": {
        "colab": {
          "base_uri": "https://localhost:8080/"
        },
        "id": "B5rKJye3JVYw",
        "jupyter": {
          "source_hidden": true
        },
        "outputId": "3f0f9360-e2d1-4840-c281-344c229d5118",
        "scrolled": true
      },
      "outputs": [
        {
          "name": "stdout",
          "output_type": "stream",
          "text": [
            "Epoch 1/10\n",
            "1719/1719 - 3s - loss: 1.5275 - accuracy: 0.5970 - val_loss: 0.9444 - val_accuracy: 0.7980\n",
            "Epoch 2/10\n",
            "1719/1719 - 3s - loss: 0.7465 - accuracy: 0.8287 - val_loss: 0.5868 - val_accuracy: 0.8596\n",
            "Epoch 3/10\n",
            "1719/1719 - 3s - loss: 0.5412 - accuracy: 0.8624 - val_loss: 0.4685 - val_accuracy: 0.8834\n",
            "Epoch 4/10\n",
            "1719/1719 - 3s - loss: 0.4591 - accuracy: 0.8771 - val_loss: 0.4104 - val_accuracy: 0.8940\n",
            "Epoch 5/10\n",
            "1719/1719 - 3s - loss: 0.4142 - accuracy: 0.8869 - val_loss: 0.3758 - val_accuracy: 0.9006\n",
            "Epoch 6/10\n",
            "1719/1719 - 3s - loss: 0.3852 - accuracy: 0.8938 - val_loss: 0.3525 - val_accuracy: 0.9052\n",
            "Epoch 7/10\n",
            "1719/1719 - 3s - loss: 0.3644 - accuracy: 0.8980 - val_loss: 0.3348 - val_accuracy: 0.9102\n",
            "Epoch 8/10\n",
            "1719/1719 - 3s - loss: 0.3485 - accuracy: 0.9021 - val_loss: 0.3209 - val_accuracy: 0.9138\n",
            "Epoch 9/10\n",
            "1719/1719 - 3s - loss: 0.3356 - accuracy: 0.9053 - val_loss: 0.3111 - val_accuracy: 0.9152\n",
            "Epoch 10/10\n",
            "1719/1719 - 3s - loss: 0.3251 - accuracy: 0.9078 - val_loss: 0.3016 - val_accuracy: 0.9170\n"
          ]
        }
      ],
      "source": [
        "history = model.fit(X_train, y_train, epochs=10,\n",
        "                    validation_data=(X_valid, y_valid), verbose=2)"
      ]
    },
    {
      "cell_type": "code",
      "execution_count": null,
      "metadata": {
        "id": "x6LU0JT9NUuQ"
      },
      "outputs": [],
      "source": [
        "model.save(\"full_mnist_model.h5\")"
      ]
    },
    {
      "cell_type": "code",
      "execution_count": null,
      "metadata": {
        "id": "-afrWXMNNUuS"
      },
      "outputs": [],
      "source": [
        "load_full_mnist_model = tf.keras.models.load_model(\"full_mnist_model.h5\")"
      ]
    },
    {
      "cell_type": "code",
      "execution_count": null,
      "metadata": {
        "id": "5JHdHho9NUu4",
        "outputId": "d469a251-7afb-46e3-c856-d7c9cec69ac3"
      },
      "outputs": [
        {
          "name": "stdout",
          "output_type": "stream",
          "text": [
            "Model: \"sequential\"\n",
            "_________________________________________________________________\n",
            "Layer (type)                 Output Shape              Param #   \n",
            "=================================================================\n",
            "flatten (Flatten)            (None, 784)               0         \n",
            "_________________________________________________________________\n",
            "dense_1 (Dense)              (None, 300)               235500    \n",
            "_________________________________________________________________\n",
            "leaky_re_lu (LeakyReLU)      (None, 300)               0         \n",
            "_________________________________________________________________\n",
            "dense_2 (Dense)              (None, 100)               30100     \n",
            "_________________________________________________________________\n",
            "leaky_re_lu_1 (LeakyReLU)    (None, 100)               0         \n",
            "_________________________________________________________________\n",
            "dense_3 (Dense)              (None, 10)                1010      \n",
            "=================================================================\n",
            "Total params: 266,610\n",
            "Trainable params: 266,610\n",
            "Non-trainable params: 0\n",
            "_________________________________________________________________\n"
          ]
        }
      ],
      "source": [
        "load_full_mnist_model.summary()"
      ]
    },
    {
      "cell_type": "code",
      "execution_count": null,
      "metadata": {
        "id": "Bhsv1BZGNUvI",
        "outputId": "e44fe4f2-2dc9-4770-fdab-0f1a23f7068e"
      },
      "outputs": [
        {
          "data": {
            "text/plain": [
              "array([0, 0, 1, ..., 0, 1, 1])"
            ]
          },
          "execution_count": 11,
          "metadata": {},
          "output_type": "execute_result"
        }
      ],
      "source": [
        "np.where(y_train % 2 == 0, 1 , 0)"
      ]
    },
    {
      "cell_type": "code",
      "execution_count": null,
      "metadata": {
        "id": "qvMsM3xhNUvN",
        "outputId": "fe6d04f0-17f9-4435-bf26-23d3176897c0"
      },
      "outputs": [
        {
          "data": {
            "text/plain": [
              "(7, 8)"
            ]
          },
          "execution_count": 12,
          "metadata": {},
          "output_type": "execute_result"
        }
      ],
      "source": [
        "y_train[0], y_train[-1] "
      ]
    },
    {
      "cell_type": "code",
      "execution_count": null,
      "metadata": {
        "id": "DfRuure5NUvR"
      },
      "outputs": [],
      "source": [
        "def update_even_odd_labels(labels):\n",
        "    for idx, label in enumerate(labels):\n",
        "        labels[idx] = np.where(label % 2 == 0, 1 , 0)\n",
        "    return labels"
      ]
    },
    {
      "cell_type": "code",
      "execution_count": null,
      "metadata": {
        "id": "Mw37qgAYNUvS"
      },
      "outputs": [],
      "source": [
        "y_train_bin, y_valid_bin, y_test_bin = update_even_odd_labels([y_train, y_valid, y_test])"
      ]
    },
    {
      "cell_type": "code",
      "execution_count": null,
      "metadata": {
        "id": "_aY4zvF_NUvV",
        "outputId": "afe374b6-906b-4204-fbed-73327cb6d6ff"
      },
      "outputs": [
        {
          "name": "stdout",
          "output_type": "stream",
          "text": [
            "flatten: True\n",
            "dense_1: True\n",
            "leaky_re_lu: True\n",
            "dense_2: True\n",
            "leaky_re_lu_1: True\n",
            "dense_3: True\n"
          ]
        }
      ],
      "source": [
        "# Check trainable or not:\n",
        "\n",
        "for layer in load_full_mnist_model.layers:\n",
        "    print(f\"{layer.name}: {layer.trainable}\")"
      ]
    },
    {
      "cell_type": "code",
      "execution_count": null,
      "metadata": {
        "id": "oyKuhfIDNUvb",
        "outputId": "15b261e5-f1f2-40d3-8443-3208b4971e93"
      },
      "outputs": [
        {
          "name": "stdout",
          "output_type": "stream",
          "text": [
            "Now flatten: False\n",
            "Now dense_1: False\n",
            "Now leaky_re_lu: False\n",
            "Now dense_2: False\n",
            "Now leaky_re_lu_1: False\n"
          ]
        }
      ],
      "source": [
        "# make lower layer UN-trainable except the last layer:\n",
        "\n",
        "for layer in load_full_mnist_model.layers[:-1]:\n",
        "    layer.trainable = False\n",
        "    print(f\"Now {layer.name}: {layer.trainable}\")"
      ]
    },
    {
      "cell_type": "code",
      "execution_count": null,
      "metadata": {
        "id": "739UPQQ0NUvc"
      },
      "outputs": [],
      "source": [
        "new_model = tf.keras.models.Sequential(load_full_mnist_model.layers[:-1])\n",
        "new_model.add(\n",
        "    tf.keras.layers.Dense(1, activation=\"sigmoid\")\n",
        ")"
      ]
    },
    {
      "cell_type": "code",
      "execution_count": null,
      "metadata": {
        "id": "WUcqFolcNUve",
        "outputId": "4974c667-6d88-4f32-ffe8-a6bb71c715a1"
      },
      "outputs": [
        {
          "name": "stdout",
          "output_type": "stream",
          "text": [
            "Model: \"sequential_1\"\n",
            "_________________________________________________________________\n",
            "Layer (type)                 Output Shape              Param #   \n",
            "=================================================================\n",
            "flatten (Flatten)            (None, 784)               0         \n",
            "_________________________________________________________________\n",
            "dense_1 (Dense)              (None, 300)               235500    \n",
            "_________________________________________________________________\n",
            "leaky_re_lu (LeakyReLU)      (None, 300)               0         \n",
            "_________________________________________________________________\n",
            "dense_2 (Dense)              (None, 100)               30100     \n",
            "_________________________________________________________________\n",
            "leaky_re_lu_1 (LeakyReLU)    (None, 100)               0         \n",
            "_________________________________________________________________\n",
            "dense_4 (Dense)              (None, 1)                 101       \n",
            "=================================================================\n",
            "Total params: 265,701\n",
            "Trainable params: 101\n",
            "Non-trainable params: 265,600\n",
            "_________________________________________________________________\n"
          ]
        }
      ],
      "source": [
        "new_model.summary()"
      ]
    },
    {
      "cell_type": "code",
      "execution_count": null,
      "metadata": {
        "id": "64T0351mNUvg",
        "outputId": "c63d2929-3040-4af1-95c6-faf10a360e7c"
      },
      "outputs": [
        {
          "data": {
            "text/plain": [
              "{'name': 'sequential_1',\n",
              " 'layers': [{'class_name': 'InputLayer',\n",
              "   'config': {'batch_input_shape': (None, 28, 28),\n",
              "    'dtype': 'float32',\n",
              "    'sparse': False,\n",
              "    'ragged': False,\n",
              "    'name': 'flatten_input'}},\n",
              "  {'class_name': 'Flatten',\n",
              "   'config': {'name': 'flatten',\n",
              "    'trainable': False,\n",
              "    'batch_input_shape': (None, 28, 28),\n",
              "    'dtype': 'float32',\n",
              "    'data_format': 'channels_last'}},\n",
              "  {'class_name': 'Dense',\n",
              "   'config': {'name': 'dense_1',\n",
              "    'trainable': False,\n",
              "    'dtype': 'float32',\n",
              "    'units': 300,\n",
              "    'activation': 'linear',\n",
              "    'use_bias': True,\n",
              "    'kernel_initializer': {'class_name': 'HeNormal', 'config': {'seed': None}},\n",
              "    'bias_initializer': {'class_name': 'Zeros', 'config': {}},\n",
              "    'kernel_regularizer': None,\n",
              "    'bias_regularizer': None,\n",
              "    'activity_regularizer': None,\n",
              "    'kernel_constraint': None,\n",
              "    'bias_constraint': None}},\n",
              "  {'class_name': 'LeakyReLU',\n",
              "   'config': {'name': 'leaky_re_lu',\n",
              "    'trainable': False,\n",
              "    'dtype': 'float32',\n",
              "    'alpha': 0.30000001192092896}},\n",
              "  {'class_name': 'Dense',\n",
              "   'config': {'name': 'dense_2',\n",
              "    'trainable': False,\n",
              "    'dtype': 'float32',\n",
              "    'units': 100,\n",
              "    'activation': 'linear',\n",
              "    'use_bias': True,\n",
              "    'kernel_initializer': {'class_name': 'HeNormal', 'config': {'seed': None}},\n",
              "    'bias_initializer': {'class_name': 'Zeros', 'config': {}},\n",
              "    'kernel_regularizer': None,\n",
              "    'bias_regularizer': None,\n",
              "    'activity_regularizer': None,\n",
              "    'kernel_constraint': None,\n",
              "    'bias_constraint': None}},\n",
              "  {'class_name': 'LeakyReLU',\n",
              "   'config': {'name': 'leaky_re_lu_1',\n",
              "    'trainable': False,\n",
              "    'dtype': 'float32',\n",
              "    'alpha': 0.30000001192092896}},\n",
              "  {'class_name': 'Dense',\n",
              "   'config': {'name': 'dense_4',\n",
              "    'trainable': True,\n",
              "    'dtype': 'float32',\n",
              "    'units': 1,\n",
              "    'activation': 'sigmoid',\n",
              "    'use_bias': True,\n",
              "    'kernel_initializer': {'class_name': 'GlorotUniform',\n",
              "     'config': {'seed': None}},\n",
              "    'bias_initializer': {'class_name': 'Zeros', 'config': {}},\n",
              "    'kernel_regularizer': None,\n",
              "    'bias_regularizer': None,\n",
              "    'activity_regularizer': None,\n",
              "    'kernel_constraint': None,\n",
              "    'bias_constraint': None}}]}"
            ]
          },
          "execution_count": 19,
          "metadata": {},
          "output_type": "execute_result"
        }
      ],
      "source": [
        "new_model.get_config()"
      ]
    },
    {
      "cell_type": "code",
      "execution_count": null,
      "metadata": {
        "scrolled": true,
        "id": "N1iXZdVhNUvh",
        "outputId": "9274f597-f47c-4775-d7fb-23e9e40eaac6"
      },
      "outputs": [
        {
          "name": "stdout",
          "output_type": "stream",
          "text": [
            "flatten: False\n",
            "dense_1: False\n",
            "leaky_re_lu: False\n",
            "dense_2: False\n",
            "leaky_re_lu_1: False\n",
            "dense_4: True\n"
          ]
        }
      ],
      "source": [
        "# Check trainable or not:\n",
        "\n",
        "for layer in new_model.layers:\n",
        "    print(f\"{layer.name}: {layer.trainable}\")"
      ]
    },
    {
      "cell_type": "code",
      "execution_count": null,
      "metadata": {
        "id": "tOcK4enfNUvi"
      },
      "outputs": [],
      "source": [
        "new_model.compile(loss=\"binary_crossentropy\",\n",
        "              optimizer=tf.keras.optimizers.SGD(lr=1e-3),\n",
        "              metrics=[\"accuracy\"])"
      ]
    },
    {
      "cell_type": "code",
      "execution_count": null,
      "metadata": {
        "id": "MaV2R-l8NUvk",
        "outputId": "f78f3619-4855-4974-bb5e-827b047c2b60"
      },
      "outputs": [
        {
          "name": "stdout",
          "output_type": "stream",
          "text": [
            "Epoch 1/10\n",
            "1719/1719 - 2s - loss: 0.4630 - accuracy: 0.7917 - val_loss: 0.3569 - val_accuracy: 0.8564\n",
            "Epoch 2/10\n",
            "1719/1719 - 2s - loss: 0.3552 - accuracy: 0.8486 - val_loss: 0.3265 - val_accuracy: 0.8626\n",
            "Epoch 3/10\n",
            "1719/1719 - 2s - loss: 0.3365 - accuracy: 0.8554 - val_loss: 0.3127 - val_accuracy: 0.8686\n",
            "Epoch 4/10\n",
            "1719/1719 - 2s - loss: 0.3262 - accuracy: 0.8603 - val_loss: 0.3041 - val_accuracy: 0.8712\n",
            "Epoch 5/10\n",
            "1719/1719 - 2s - loss: 0.3191 - accuracy: 0.8631 - val_loss: 0.2979 - val_accuracy: 0.8740\n",
            "Epoch 6/10\n",
            "1719/1719 - 2s - loss: 0.3136 - accuracy: 0.8659 - val_loss: 0.2929 - val_accuracy: 0.8756\n",
            "Epoch 7/10\n",
            "1719/1719 - 2s - loss: 0.3092 - accuracy: 0.8683 - val_loss: 0.2889 - val_accuracy: 0.8800\n",
            "Epoch 8/10\n",
            "1719/1719 - 2s - loss: 0.3055 - accuracy: 0.8699 - val_loss: 0.2856 - val_accuracy: 0.8828\n",
            "Epoch 9/10\n",
            "1719/1719 - 2s - loss: 0.3022 - accuracy: 0.8721 - val_loss: 0.2829 - val_accuracy: 0.8844\n",
            "Epoch 10/10\n",
            "1719/1719 - 2s - loss: 0.2994 - accuracy: 0.8733 - val_loss: 0.2798 - val_accuracy: 0.8858\n"
          ]
        }
      ],
      "source": [
        "new_history = new_model.fit(X_train, y_train_bin, epochs=10,\n",
        "                    validation_data=(X_valid, y_valid_bin), verbose=2)"
      ]
    },
    {
      "cell_type": "code",
      "execution_count": null,
      "metadata": {
        "id": "CzRxNjfYNUvm",
        "outputId": "1cc7d05a-9944-4b30-a946-3aa521d25b81"
      },
      "outputs": [
        {
          "name": "stdout",
          "output_type": "stream",
          "text": [
            "313/313 [==============================] - 0s 1ms/step - loss: 0.2918 - accuracy: 0.8764\n"
          ]
        },
        {
          "data": {
            "text/plain": [
              "[0.291761577129364, 0.8763999938964844]"
            ]
          },
          "execution_count": 23,
          "metadata": {},
          "output_type": "execute_result"
        }
      ],
      "source": [
        "new_model.evaluate(X_test, y_test_bin)"
      ]
    },
    {
      "cell_type": "code",
      "execution_count": null,
      "metadata": {
        "id": "YyoTMiFbNUvs",
        "outputId": "e677e464-8457-4df9-f214-35896504bc85"
      },
      "outputs": [
        {
          "data": {
            "text/plain": [
              "(array([7, 2, 1], dtype=uint8), array([0, 1, 0]))"
            ]
          },
          "execution_count": 24,
          "metadata": {},
          "output_type": "execute_result"
        }
      ],
      "source": [
        "X_new = X_test[:3]\n",
        "y_test[:3], y_test_bin[:3]"
      ]
    },
    {
      "cell_type": "code",
      "execution_count": null,
      "metadata": {
        "id": "dL2blAQ2NUvt",
        "outputId": "c6e2032e-97d7-416b-e178-52ca7f3f062b"
      },
      "outputs": [
        {
          "data": {
            "text/plain": [
              "array([[0.02084461],\n",
              "       [0.96824026],\n",
              "       [0.11971378]], dtype=float32)"
            ]
          },
          "execution_count": 26,
          "metadata": {},
          "output_type": "execute_result"
        }
      ],
      "source": [
        "new_model.predict(X_new)"
      ]
    },
    {
      "cell_type": "code",
      "execution_count": null,
      "metadata": {
        "id": "JfOyCcNHNUvu"
      },
      "outputs": [],
      "source": [
        ""
      ]
    }
  ],
  "metadata": {
    "kernelspec": {
      "display_name": "Python 3",
      "language": "python",
      "name": "python3"
    },
    "language_info": {
      "codemirror_mode": {
        "name": "ipython",
        "version": 3
      },
      "file_extension": ".py",
      "mimetype": "text/x-python",
      "name": "python",
      "nbconvert_exporter": "python",
      "pygments_lexer": "ipython3",
      "version": "3.7.9"
    },
    "colab": {
      "name": "TansferLearning Binary Classification.ipynb",
      "provenance": []
    }
  },
  "nbformat": 4,
  "nbformat_minor": 0
}