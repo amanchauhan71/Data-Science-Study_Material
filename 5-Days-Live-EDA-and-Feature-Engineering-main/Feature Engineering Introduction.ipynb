{
 "cells": [
  {
   "cell_type": "markdown",
   "metadata": {},
   "source": [
    "### What is Feature Engineering?\n",
    "Feature engineering is the process of using domain knowledge to extract and analyze features from raw data. A feature or column is a property shared by independent units on which analysis or prediction is to be done.Features are used by predictive models and influence results."
   ]
  },
  {
   "cell_type": "markdown",
   "metadata": {},
   "source": [
    "### Feature Engineering is an Art.\n",
    "The data is a variable and is different every time. You get good at deciding which procedures to use and when, by practiceMastery of feature engineering comes with hands-on practice, and study of what others that are doing well are practicing.\n",
    "Some machine learning projects succeed and some fail. What makes the difference? Easily the most important factor is the features used."
   ]
  },
  {
   "cell_type": "markdown",
   "metadata": {},
   "source": [
    "### Why should we use Feature Engineering in data science or Importance of Feature Engineering?\n",
    "Feature engineering is useful to improve the performance of machine learning algorithms.Selecting the important features and reducing the size of the feature set makes computation in machine learning and data analytic algorithms more feasible.\n",
    "\n",
    "In Data Science, the performance of the model is dependent on data preprocessing and data handling. Suppose if we build a model without Handling data, we get an accuracy of around 70%. By applying the Feature engineering on the same model there is a chance to increase the performance from 70% to more.\n",
    "\n",
    "Simply, by using Feature Engineering we improve the performance of the model."
   ]
  },
  {
   "cell_type": "markdown",
   "metadata": {},
   "source": [
    "### Types of Feature Engineering\n",
    "\n",
    "Handling missing data\n",
    "\n",
    "Handling imbalanced data\n",
    "\n",
    "Handling outliers\n",
    "\n",
    "Feature scaling\n",
    "\n",
    "Feature encoding\n",
    "\n",
    "Dimensionality reduction\n",
    "\n",
    "Feature Transformation\n",
    "\n",
    "Feature construction\n",
    "\n",
    "Covariance Check\n",
    "\n",
    "Correlation Check"
   ]
  },
  {
   "cell_type": "markdown",
   "metadata": {},
   "source": [
    "\n"
   ]
  },
  {
   "cell_type": "code",
   "execution_count": null,
   "metadata": {},
   "outputs": [],
   "source": []
  }
 ],
 "metadata": {
  "kernelspec": {
   "display_name": "Python 3",
   "language": "python",
   "name": "python3"
  },
  "language_info": {
   "codemirror_mode": {
    "name": "ipython",
    "version": 3
   },
   "file_extension": ".py",
   "mimetype": "text/x-python",
   "name": "python",
   "nbconvert_exporter": "python",
   "pygments_lexer": "ipython3",
   "version": "3.8.3"
  }
 },
 "nbformat": 4,
 "nbformat_minor": 4
}
